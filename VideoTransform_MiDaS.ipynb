{
  "nbformat": 4,
  "nbformat_minor": 0,
  "metadata": {
    "colab": {
      "name": "VideoTransform_MiDaS.ipynb",
      "provenance": [],
      "toc_visible": true,
      "authorship_tag": "ABX9TyNCehr+h8QexBG3rimLtrcT",
      "include_colab_link": true
    },
    "kernelspec": {
      "name": "python3",
      "display_name": "Python 3"
    },
    "accelerator": "GPU"
  },
  "cells": [
    {
      "cell_type": "markdown",
      "metadata": {
        "id": "view-in-github",
        "colab_type": "text"
      },
      "source": [
        "<a href=\"https://colab.research.google.com/github/nickteim/Reinforcement_Learning-/blob/main/VideoTransform_MiDaS.ipynb\" target=\"_parent\"><img src=\"https://colab.research.google.com/assets/colab-badge.svg\" alt=\"Open In Colab\"/></a>"
      ]
    },
    {
      "cell_type": "markdown",
      "metadata": {
        "id": "St2ItQMS5_2V"
      },
      "source": [
        "## Libraries"
      ]
    },
    {
      "cell_type": "code",
      "metadata": {
        "id": "tyuJYNQY5u-b"
      },
      "source": [
        "import os\n",
        "import glob\n",
        "import time\n",
        "from PIL import Image\n",
        "import numpy as np\n",
        "import PIL\n",
        "import random\n",
        "import torch\n",
        "import matplotlib.pyplot as plt\n",
        "from torch.utils.data import Dataset, DataLoader\n",
        "from torchvision import transforms, utils"
      ],
      "execution_count": 1,
      "outputs": []
    },
    {
      "cell_type": "code",
      "metadata": {
        "id": "Ae3gsZff50h2"
      },
      "source": [
        "import os\n",
        "import glob\n",
        "import time\n",
        "from PIL import Image\n",
        "import numpy as np\n",
        "import PIL\n",
        "import random\n",
        "import torch\n",
        "import matplotlib.pyplot as plt\n",
        "from torch.utils.data import Dataset, DataLoader\n",
        "from torchvision import transforms, utils\n",
        "import torch.nn as nn\n",
        "import torch.nn.utils as utils\n",
        "import torchvision.utils as vutils    \n",
        "import torchvision.models as models\n",
        "import cv2\n",
        "import torch\n",
        "import urllib.request\n",
        "\n",
        "import matplotlib.pyplot as plt\n",
        "from PIL import Image\n",
        "from skimage import io\n"
      ],
      "execution_count": 2,
      "outputs": []
    },
    {
      "cell_type": "markdown",
      "metadata": {
        "id": "J175XpEZ87su"
      },
      "source": [
        "# Download video from YouTube"
      ]
    },
    {
      "cell_type": "code",
      "metadata": {
        "id": "P0bIgCggoyqA"
      },
      "source": [
        "# !pip install pytube3"
      ],
      "execution_count": 3,
      "outputs": []
    },
    {
      "cell_type": "code",
      "metadata": {
        "id": "JHVKrrpXnPvj",
        "outputId": "4ecdf131-1ad2-4427-8acc-61e6663af6cc",
        "colab": {
          "base_uri": "https://localhost:8080/"
        }
      },
      "source": [
        "!pip install git+https://github.com/nficano/pytube"
      ],
      "execution_count": 4,
      "outputs": [
        {
          "output_type": "stream",
          "text": [
            "Collecting git+https://github.com/nficano/pytube\n",
            "  Cloning https://github.com/nficano/pytube to /tmp/pip-req-build-37oeccmo\n",
            "  Running command git clone -q https://github.com/nficano/pytube /tmp/pip-req-build-37oeccmo\n",
            "Requirement already satisfied: typing_extensions in /usr/local/lib/python3.6/dist-packages (from pytube==9.7.0) (3.7.4.3)\n",
            "Building wheels for collected packages: pytube\n",
            "  Building wheel for pytube (setup.py) ... \u001b[?25l\u001b[?25hdone\n",
            "  Created wheel for pytube: filename=pytube-9.7.0-cp36-none-any.whl size=40388 sha256=264e211d6c28234fd04fa802635b76925f3d389ac5e80331302d5f28ceb44458\n",
            "  Stored in directory: /tmp/pip-ephem-wheel-cache-6xkcu78a/wheels/44/da/40/3b5e03abe33a91895343814fb44b309512375408f4a909555b\n",
            "Successfully built pytube\n",
            "Installing collected packages: pytube\n",
            "Successfully installed pytube-9.7.0\n"
          ],
          "name": "stdout"
        }
      ]
    },
    {
      "cell_type": "code",
      "metadata": {
        "id": "OU_vUhvV8-NL",
        "outputId": "5000186d-661e-4ad3-c5a8-660edbf7f17e",
        "colab": {
          "base_uri": "https://localhost:8080/",
          "height": 120
        }
      },
      "source": [
        "from pytube import YouTube\n",
        "from moviepy.editor import *\n",
        " \n",
        "# download a file from youtube\n",
        "youtube_link = 'https://www.youtube.com/watch?v=92U11ya1xuQ'\n",
        "w = YouTube(youtube_link).streams.first()\n",
        "w.download(output_path=\"/content/\")"
      ],
      "execution_count": 5,
      "outputs": [
        {
          "output_type": "stream",
          "text": [
            "Imageio: 'ffmpeg-linux64-v3.3.1' was not found on your computer; downloading it now.\n",
            "Try 1. Download from https://github.com/imageio/imageio-binaries/raw/master/ffmpeg/ffmpeg-linux64-v3.3.1 (43.8 MB)\n",
            "Downloading: 8192/45929032 bytes (0.0%)\b\b\b\b\b\b\b\b\b\b\b\b\b\b\b\b\b\b\b\b\b\b\b\b\b\b3776512/45929032 bytes (8.2%)\b\b\b\b\b\b\b\b\b\b\b\b\b\b\b\b\b\b\b\b\b\b\b\b\b\b\b\b\b8101888/45929032 bytes (17.6%)\b\b\b\b\b\b\b\b\b\b\b\b\b\b\b\b\b\b\b\b\b\b\b\b\b\b\b\b\b\b12255232/45929032 bytes (26.7%)\b\b\b\b\b\b\b\b\b\b\b\b\b\b\b\b\b\b\b\b\b\b\b\b\b\b\b\b\b\b\b16392192/45929032 bytes (35.7%)\b\b\b\b\b\b\b\b\b\b\b\b\b\b\b\b\b\b\b\b\b\b\b\b\b\b\b\b\b\b\b20692992/45929032 bytes (45.1%)\b\b\b\b\b\b\b\b\b\b\b\b\b\b\b\b\b\b\b\b\b\b\b\b\b\b\b\b\b\b\b24977408/45929032 bytes (54.4%)\b\b\b\b\b\b\b\b\b\b\b\b\b\b\b\b\b\b\b\b\b\b\b\b\b\b\b\b\b\b\b29147136/45929032 bytes (63.5%)\b\b\b\b\b\b\b\b\b\b\b\b\b\b\b\b\b\b\b\b\b\b\b\b\b\b\b\b\b\b\b33333248/45929032 bytes (72.6%)\b\b\b\b\b\b\b\b\b\b\b\b\b\b\b\b\b\b\b\b\b\b\b\b\b\b\b\b\b\b\b37527552/45929032 bytes (81.7%)\b\b\b\b\b\b\b\b\b\b\b\b\b\b\b\b\b\b\b\b\b\b\b\b\b\b\b\b\b\b\b41803776/45929032 bytes (91.0%)\b\b\b\b\b\b\b\b\b\b\b\b\b\b\b\b\b\b\b\b\b\b\b\b\b\b\b\b\b\b\b45929032/45929032 bytes (100.0%)\n",
            "  Done\n",
            "File saved as /root/.imageio/ffmpeg/ffmpeg-linux64-v3.3.1.\n"
          ],
          "name": "stdout"
        },
        {
          "output_type": "execute_result",
          "data": {
            "application/vnd.google.colaboratory.intrinsic+json": {
              "type": "string"
            },
            "text/plain": [
              "'/content/28 WAYS TO PEEL AND CUT FRUITS LIKE A PRO.mp4'"
            ]
          },
          "metadata": {
            "tags": []
          },
          "execution_count": 5
        }
      ]
    },
    {
      "cell_type": "code",
      "metadata": {
        "id": "-5NFrdab5qT9"
      },
      "source": [
        "Location_video='/content/28 WAYS TO PEEL AND CUT FRUITS LIKE A PRO.mp4'"
      ],
      "execution_count": 6,
      "outputs": []
    },
    {
      "cell_type": "markdown",
      "metadata": {
        "id": "1GXSXYDl6LQi"
      },
      "source": [
        "##Proces video"
      ]
    },
    {
      "cell_type": "markdown",
      "metadata": {
        "id": "j1xG81NS6O0N"
      },
      "source": [
        "###Split video to images"
      ]
    },
    {
      "cell_type": "code",
      "metadata": {
        "id": "K55YDz0D5XUN"
      },
      "source": [
        "## I just did about 6000 images\n",
        "os.mkdir('/content/test_vid/')\n",
        "os.mkdir('/content/test_vid/Frames/')\n",
        "# converting video into frames\n",
        "vidcap = cv2.VideoCapture(Location_video)\n",
        "success,image = vidcap.read()\n",
        "count = 0\n",
        "while success:\n",
        "  cv2.imwrite(\"/content/test_vid/Frames/%d.jpg\" % count, image)     # save frame as JPEG file      \n",
        "  success,image = vidcap.read()\n",
        "  print('Read a new frame:%d, ',count, success)\n",
        "  count += 1"
      ],
      "execution_count": null,
      "outputs": []
    },
    {
      "cell_type": "code",
      "metadata": {
        "id": "fWhtif6T9xlx"
      },
      "source": [
        "##zero padding every image name in folder to get the right order\n",
        "import shutil\n",
        "import os\n",
        "\n",
        "sourcedir = \"/content/test_vid/Frames\"; extensions = (\".jpg\", \".jpeg\")\n",
        "files = [(f, f[f.rfind(\".\"):], f[:f.rfind(\".\")]) for f in os.listdir(sourcedir)if f.endswith(extensions)]\n",
        "maxlen = len(max([f[2] for f in files], key = len))\n",
        "\n",
        "for item in files:\n",
        "    zeros = maxlen-len(item[2])\n",
        "    shutil.move(sourcedir+\"/\"+item[0], sourcedir+\"/\"+str(zeros*\"0\")+item[0])"
      ],
      "execution_count": 8,
      "outputs": []
    },
    {
      "cell_type": "markdown",
      "metadata": {
        "id": "3KrxrIuE6kow"
      },
      "source": [
        "###Get model from github"
      ]
    },
    {
      "cell_type": "markdown",
      "metadata": {
        "id": "6xNjk-7x66St"
      },
      "source": [
        " github model --> https://pytorch.org/hub/intelisl_midas_v2/"
      ]
    },
    {
      "cell_type": "code",
      "metadata": {
        "id": "JJj6CrYDSfFX"
      },
      "source": [
        "os.mkdir('/content/test_vid/new_model')"
      ],
      "execution_count": 9,
      "outputs": []
    },
    {
      "cell_type": "code",
      "metadata": {
        "id": "CKqBl4tCIcHy"
      },
      "source": [
        "#Used GPU\n",
        "midas = torch.hub.load(\"intel-isl/MiDaS\", \"MiDaS\")\n",
        "\n",
        "device = torch.device(\"cuda\") if torch.cuda.is_available() else torch.device(\"cpu\")\n",
        "midas.to(device)\n",
        "midas.eval()"
      ],
      "execution_count": null,
      "outputs": []
    },
    {
      "cell_type": "code",
      "metadata": {
        "id": "eKNOuaKfODm1",
        "outputId": "d47f10d0-c468-42f7-a544-b92a6d0ec4b9",
        "colab": {
          "base_uri": "https://localhost:8080/"
        }
      },
      "source": [
        "midas_transforms = torch.hub.load(\"intel-isl/MiDaS\", \"transforms\")\n",
        "transform = midas_transforms.default_transform"
      ],
      "execution_count": 11,
      "outputs": [
        {
          "output_type": "stream",
          "text": [
            "Using cache found in /root/.cache/torch/hub/intel-isl_MiDaS_master\n"
          ],
          "name": "stderr"
        }
      ]
    },
    {
      "cell_type": "markdown",
      "metadata": {
        "id": "HRmERKIP6qRA"
      },
      "source": [
        "### Proces images"
      ]
    },
    {
      "cell_type": "code",
      "metadata": {
        "id": "-7q82gQKjBhV"
      },
      "source": [
        "#dont know why this is needed but if i dont set this for every iteration, it wont work\n",
        "def setter_inew_model():\n",
        "  path1_depth = '/content/test_vid/Frames'\n",
        "  data_depth = os.listdir(path1_depth)\n",
        "  ordedered_list = sorted(data_depth)\n",
        "  ordedered_list = ordedered_list\n"
      ],
      "execution_count": 12,
      "outputs": []
    },
    {
      "cell_type": "code",
      "metadata": {
        "id": "BYUfmBBLli5z"
      },
      "source": [
        "def move_image_new_model(number):  \n",
        "  for e in ordedered_list[:1]: #takes always the first image because i remove the previus image from ordedered_list\n",
        "    in_image = \"/content/food%d.png\" % number #takes mathplot image that are saved in \"/content/\"\n",
        "    \n",
        "    #convert mathplot image to jpg image\n",
        "    im = Image.open(in_image) \n",
        "    im.mode\n",
        "    'P'\n",
        "    im = im.convert('RGB')\n",
        "    im.mode\n",
        "    'RGB'\n",
        "    out1 = \"/content/test_vid/new_model/%d.jpg\" % number\n",
        "    im.save(out1, quality=95)\n",
        "    os.remove(in_image) #remove image from \"/content/\""
      ],
      "execution_count": 16,
      "outputs": []
    },
    {
      "cell_type": "code",
      "metadata": {
        "id": "CRnSn5SdjFQY"
      },
      "source": [
        "def remove(number):\n",
        "  for i in  ordedered_list[:1]: #takes always the first image so it can remove current image from ordedered_list\n",
        "    from_folder = '/content/test_vid/Frames/' + i\n",
        "    print(\"Removed: \", from_folder)\n",
        "    os.remove(from_folder)\n"
      ],
      "execution_count": 14,
      "outputs": []
    },
    {
      "cell_type": "code",
      "metadata": {
        "id": "mpBHiGs8aHEi",
        "outputId": "f3575aa2-ef28-4257-b9d2-4dbf4f4ca81b",
        "colab": {
          "base_uri": "https://localhost:8080/",
          "height": 1000
        }
      },
      "source": [
        "number=0 # each image will be named with numbers\n",
        "\n",
        "for i in range(1000):\n",
        "  \n",
        "  setter_inew_model() \n",
        "\n",
        "  ### dont know why it needs to be defined twice but without it, it wont work\n",
        "  path1_depth = '/content/test_vid/Frames'\n",
        "  data_depth = os.listdir(path1_depth)\n",
        "  ordedered_list = sorted(data_depth)\n",
        "  ordedered_list = ordedered_list[1500:]\n",
        "\n",
        "## put image through model\n",
        "  for e in ordedered_list[:1]: ##always the first image because the last one was removed\n",
        "    c = e\n",
        "    input = '/content/test_vid/Frames/'+c\n",
        "    print(input)\n",
        "    img_ori = io.imread(input)\n",
        "\n",
        "    img = cv2.cvtColor(img_ori, cv2.COLOR_BGR2RGB)\n",
        "\n",
        "    input_batch = transform(img).to(device)\n",
        "\n",
        "    with torch.no_grad():\n",
        "      prediction = midas(input_batch)\n",
        "\n",
        "      prediction = torch.nn.functional.interpolate(\n",
        "          prediction.unsqueeze(1),\n",
        "          size=img.shape[:2],\n",
        "          mode=\"bicubic\",\n",
        "          align_corners=False,\n",
        "      ).squeeze()\n",
        "    \n",
        "    # saves the mathplot image\n",
        "    output = prediction.cpu().numpy()\n",
        "    plt.imshow(output)\n",
        "    plt.axis('off')\n",
        "\n",
        "    out = \"/content/food%d.png\" % number\n",
        "    plt.savefig(out, bbox_inches='tight')\n",
        "      \n",
        "\n",
        "      \n",
        "    \n",
        "  move_image_new_model(number) #moves the image to new folder and convert it to jpg \n",
        "  remove(number) #removes current image\n",
        "  number += 1\n",
        "\n"
      ],
      "execution_count": 17,
      "outputs": [
        {
          "output_type": "stream",
          "text": [
            "/content/test_vid/Frames/1537.jpg\n",
            "Removed:  /content/test_vid/Frames/1537.jpg\n",
            "/content/test_vid/Frames/1538.jpg\n",
            "Removed:  /content/test_vid/Frames/1538.jpg\n",
            "/content/test_vid/Frames/1539.jpg\n",
            "Removed:  /content/test_vid/Frames/1539.jpg\n",
            "/content/test_vid/Frames/1540.jpg\n",
            "Removed:  /content/test_vid/Frames/1540.jpg\n",
            "/content/test_vid/Frames/1541.jpg\n",
            "Removed:  /content/test_vid/Frames/1541.jpg\n",
            "/content/test_vid/Frames/1542.jpg\n",
            "Removed:  /content/test_vid/Frames/1542.jpg\n",
            "/content/test_vid/Frames/1543.jpg\n",
            "Removed:  /content/test_vid/Frames/1543.jpg\n",
            "/content/test_vid/Frames/1544.jpg\n",
            "Removed:  /content/test_vid/Frames/1544.jpg\n",
            "/content/test_vid/Frames/1545.jpg\n",
            "Removed:  /content/test_vid/Frames/1545.jpg\n",
            "/content/test_vid/Frames/1546.jpg\n",
            "Removed:  /content/test_vid/Frames/1546.jpg\n",
            "/content/test_vid/Frames/1547.jpg\n",
            "Removed:  /content/test_vid/Frames/1547.jpg\n",
            "/content/test_vid/Frames/1548.jpg\n",
            "Removed:  /content/test_vid/Frames/1548.jpg\n",
            "/content/test_vid/Frames/1549.jpg\n",
            "Removed:  /content/test_vid/Frames/1549.jpg\n",
            "/content/test_vid/Frames/1550.jpg\n",
            "Removed:  /content/test_vid/Frames/1550.jpg\n",
            "/content/test_vid/Frames/1551.jpg\n",
            "Removed:  /content/test_vid/Frames/1551.jpg\n",
            "/content/test_vid/Frames/1552.jpg\n",
            "Removed:  /content/test_vid/Frames/1552.jpg\n",
            "/content/test_vid/Frames/1553.jpg\n",
            "Removed:  /content/test_vid/Frames/1553.jpg\n",
            "/content/test_vid/Frames/1554.jpg\n",
            "Removed:  /content/test_vid/Frames/1554.jpg\n",
            "/content/test_vid/Frames/1555.jpg\n",
            "Removed:  /content/test_vid/Frames/1555.jpg\n",
            "/content/test_vid/Frames/1556.jpg\n",
            "Removed:  /content/test_vid/Frames/1556.jpg\n",
            "/content/test_vid/Frames/1557.jpg\n",
            "Removed:  /content/test_vid/Frames/1557.jpg\n",
            "/content/test_vid/Frames/1558.jpg\n",
            "Removed:  /content/test_vid/Frames/1558.jpg\n",
            "/content/test_vid/Frames/1559.jpg\n",
            "Removed:  /content/test_vid/Frames/1559.jpg\n",
            "/content/test_vid/Frames/1560.jpg\n",
            "Removed:  /content/test_vid/Frames/1560.jpg\n",
            "/content/test_vid/Frames/1561.jpg\n",
            "Removed:  /content/test_vid/Frames/1561.jpg\n",
            "/content/test_vid/Frames/1562.jpg\n",
            "Removed:  /content/test_vid/Frames/1562.jpg\n",
            "/content/test_vid/Frames/1563.jpg\n",
            "Removed:  /content/test_vid/Frames/1563.jpg\n",
            "/content/test_vid/Frames/1564.jpg\n",
            "Removed:  /content/test_vid/Frames/1564.jpg\n",
            "/content/test_vid/Frames/1565.jpg\n",
            "Removed:  /content/test_vid/Frames/1565.jpg\n",
            "/content/test_vid/Frames/1566.jpg\n",
            "Removed:  /content/test_vid/Frames/1566.jpg\n",
            "/content/test_vid/Frames/1567.jpg\n"
          ],
          "name": "stdout"
        },
        {
          "output_type": "error",
          "ename": "KeyboardInterrupt",
          "evalue": "ignored",
          "traceback": [
            "\u001b[0;31m---------------------------------------------------------------------------\u001b[0m",
            "\u001b[0;31mKeyboardInterrupt\u001b[0m                         Traceback (most recent call last)",
            "\u001b[0;32m<ipython-input-17-a7804136b11d>\u001b[0m in \u001b[0;36m<module>\u001b[0;34m()\u001b[0m\n\u001b[1;32m     33\u001b[0m \u001b[0;34m\u001b[0m\u001b[0m\n\u001b[1;32m     34\u001b[0m     \u001b[0;31m# saves the mathplot image\u001b[0m\u001b[0;34m\u001b[0m\u001b[0;34m\u001b[0m\u001b[0;34m\u001b[0m\u001b[0m\n\u001b[0;32m---> 35\u001b[0;31m     \u001b[0moutput\u001b[0m \u001b[0;34m=\u001b[0m \u001b[0mprediction\u001b[0m\u001b[0;34m.\u001b[0m\u001b[0mcpu\u001b[0m\u001b[0;34m(\u001b[0m\u001b[0;34m)\u001b[0m\u001b[0;34m.\u001b[0m\u001b[0mnumpy\u001b[0m\u001b[0;34m(\u001b[0m\u001b[0;34m)\u001b[0m\u001b[0;34m\u001b[0m\u001b[0;34m\u001b[0m\u001b[0m\n\u001b[0m\u001b[1;32m     36\u001b[0m     \u001b[0mplt\u001b[0m\u001b[0;34m.\u001b[0m\u001b[0mimshow\u001b[0m\u001b[0;34m(\u001b[0m\u001b[0moutput\u001b[0m\u001b[0;34m)\u001b[0m\u001b[0;34m\u001b[0m\u001b[0;34m\u001b[0m\u001b[0m\n\u001b[1;32m     37\u001b[0m     \u001b[0mplt\u001b[0m\u001b[0;34m.\u001b[0m\u001b[0maxis\u001b[0m\u001b[0;34m(\u001b[0m\u001b[0;34m'off'\u001b[0m\u001b[0;34m)\u001b[0m\u001b[0;34m\u001b[0m\u001b[0;34m\u001b[0m\u001b[0m\n",
            "\u001b[0;31mKeyboardInterrupt\u001b[0m: "
          ]
        },
        {
          "output_type": "display_data",
          "data": {
            "image/png": "[encoded data removed]",
            "text/plain": [
              "<Figure size 432x288 with 1 Axes>"
            ]
          },
          "metadata": {
            "tags": [],
            "needs_background": "light"
          }
        }
      ]
    },
    {
      "cell_type": "code",
      "metadata": {
        "id": "2_ImWgQh3i6F"
      },
      "source": [
        "##zero padding every image name in folder to get the right order\n",
        "import shutil\n",
        "import os\n",
        "\n",
        "sourcedir = \"/content/test_vid/new_model\"; extensions = (\".jpg\", \".jpeg\")\n",
        "files = [(f, f[f.rfind(\".\"):], f[:f.rfind(\".\")]) for f in os.listdir(sourcedir)if f.endswith(extensions)]\n",
        "maxlen = len(max([f[2] for f in files], key = len))\n",
        "\n",
        "for item in files:\n",
        "    zeros = maxlen-len(item[2])\n",
        "    shutil.move(sourcedir+\"/\"+item[0], sourcedir+\"/\"+str(zeros*\"0\")+item[0])"
      ],
      "execution_count": 18,
      "outputs": []
    },
    {
      "cell_type": "markdown",
      "metadata": {
        "id": "Wy8CcgdA-nHR"
      },
      "source": [
        "##Converting it back to a video"
      ]
    },
    {
      "cell_type": "code",
      "metadata": {
        "id": "Lo88J0iN-qZG"
      },
      "source": [
        "from os.path import isfile, join\n",
        " \n",
        "def convert_frames_to_video(pathIn,pathOut,fps):\n",
        "    frame_array = []\n",
        "    files = [f for f in os.listdir(pathIn) if isfile(join(pathIn, f))]\n",
        " \n",
        "    #for sorting the file names properly\n",
        "    #files.sort(key = lambda x: int(x[5:-4]))\n",
        "    files = sorted(files)\n",
        "    for i in range(len(files)):\n",
        "        filename=pathIn + files[i]\n",
        "        #reading each files\n",
        "        img = cv2.imread(filename)\n",
        "        height, width, layers = img.shape\n",
        "        size = (width,height)\n",
        "        print(filename)\n",
        "        #inserting the frames into an image array\n",
        "        frame_array.append(img)\n",
        " \n",
        "    out = cv2.VideoWriter(pathOut,cv2.VideoWriter_fourcc(*'MP4V'), fps, size)\n",
        " \n",
        "    for i in range(len(frame_array)):\n",
        "        # writing to a image array\n",
        "        out.write(frame_array[i])\n",
        "    out.release()"
      ],
      "execution_count": 19,
      "outputs": []
    },
    {
      "cell_type": "code",
      "metadata": {
        "id": "HDgxqQii-xzz",
        "outputId": "563be71e-f1f9-4594-8bc9-47340512cd42",
        "colab": {
          "base_uri": "https://localhost:8080/"
        }
      },
      "source": [
        "pathIn= '/content/test_vid/new_model/'\n",
        "pathOut = '/content/video1.mp4'\n",
        "#enter the correct frame rates\n",
        "fps = 30\n",
        "convert_frames_to_video(pathIn, pathOut, fps)"
      ],
      "execution_count": 20,
      "outputs": [
        {
          "output_type": "stream",
          "text": [
            "/content/test_vid/new_model/00.jpg\n",
            "/content/test_vid/new_model/01.jpg\n",
            "/content/test_vid/new_model/02.jpg\n",
            "/content/test_vid/new_model/03.jpg\n",
            "/content/test_vid/new_model/04.jpg\n",
            "/content/test_vid/new_model/05.jpg\n",
            "/content/test_vid/new_model/06.jpg\n",
            "/content/test_vid/new_model/07.jpg\n",
            "/content/test_vid/new_model/08.jpg\n",
            "/content/test_vid/new_model/09.jpg\n",
            "/content/test_vid/new_model/10.jpg\n",
            "/content/test_vid/new_model/11.jpg\n",
            "/content/test_vid/new_model/12.jpg\n",
            "/content/test_vid/new_model/13.jpg\n",
            "/content/test_vid/new_model/14.jpg\n",
            "/content/test_vid/new_model/15.jpg\n",
            "/content/test_vid/new_model/16.jpg\n",
            "/content/test_vid/new_model/17.jpg\n",
            "/content/test_vid/new_model/18.jpg\n",
            "/content/test_vid/new_model/19.jpg\n",
            "/content/test_vid/new_model/20.jpg\n",
            "/content/test_vid/new_model/21.jpg\n",
            "/content/test_vid/new_model/22.jpg\n",
            "/content/test_vid/new_model/23.jpg\n",
            "/content/test_vid/new_model/24.jpg\n",
            "/content/test_vid/new_model/25.jpg\n",
            "/content/test_vid/new_model/26.jpg\n",
            "/content/test_vid/new_model/27.jpg\n",
            "/content/test_vid/new_model/28.jpg\n",
            "/content/test_vid/new_model/29.jpg\n",
            "/content/test_vid/new_model/30.jpg\n",
            "/content/test_vid/new_model/31.jpg\n",
            "/content/test_vid/new_model/32.jpg\n",
            "/content/test_vid/new_model/33.jpg\n",
            "/content/test_vid/new_model/34.jpg\n",
            "/content/test_vid/new_model/35.jpg\n",
            "/content/test_vid/new_model/36.jpg\n"
          ],
          "name": "stdout"
        }
      ]
    },
    {
      "cell_type": "markdown",
      "metadata": {
        "id": "wYqw1O3-_Dmy"
      },
      "source": [
        "### Download video"
      ]
    },
    {
      "cell_type": "code",
      "metadata": {
        "id": "PMNVee17_I0l"
      },
      "source": [
        "assert False"
      ],
      "execution_count": null,
      "outputs": []
    },
    {
      "cell_type": "code",
      "metadata": {
        "id": "HvcGOKOm-2RK"
      },
      "source": [
        "#Downloading video\n",
        "from google.colab import files\n",
        "files.download('/content/video1.mp4') "
      ],
      "execution_count": null,
      "outputs": []
    }
  ]
}