{
  "nbformat": 4,
  "nbformat_minor": 0,
  "metadata": {
    "colab": {
      "name": "VideoTransform_MiDaS.ipynb",
      "provenance": [],
      "authorship_tag": "ABX9TyMWvG8n4vmO05yTcfdDK6qW",
      "include_colab_link": true
    },
    "kernelspec": {
      "name": "python3",
      "display_name": "Python 3"
    },
    "accelerator": "GPU"
  },
  "cells": [
    {
      "cell_type": "markdown",
      "metadata": {
        "id": "view-in-github",
        "colab_type": "text"
      },
      "source": [
        "<a href=\"https://colab.research.google.com/github/nickteim/Reinforcement_Learning-/blob/main/VideoTransform_MiDaS.ipynb\" target=\"_parent\"><img src=\"https://colab.research.google.com/assets/colab-badge.svg\" alt=\"Open In Colab\"/></a>"
      ]
    },
    {
      "cell_type": "markdown",
      "metadata": {
        "id": "St2ItQMS5_2V"
      },
      "source": [
        "## Libraries"
      ]
    },
    {
      "cell_type": "code",
      "metadata": {
        "id": "tyuJYNQY5u-b"
      },
      "source": [
        "import os\n",
        "import glob\n",
        "import time\n",
        "from PIL import Image\n",
        "import numpy as np\n",
        "import PIL\n",
        "import random\n",
        "import torch\n",
        "import matplotlib.pyplot as plt\n",
        "from torch.utils.data import Dataset, DataLoader\n",
        "from torchvision import transforms, utils"
      ],
      "execution_count": 1,
      "outputs": []
    },
    {
      "cell_type": "code",
      "metadata": {
        "id": "Ae3gsZff50h2"
      },
      "source": [
        "import os\n",
        "import glob\n",
        "import time\n",
        "from PIL import Image\n",
        "import numpy as np\n",
        "import PIL\n",
        "import random\n",
        "import torch\n",
        "import matplotlib.pyplot as plt\n",
        "from torch.utils.data import Dataset, DataLoader\n",
        "from torchvision import transforms, utils\n",
        "import torch.nn as nn\n",
        "import torch.nn.utils as utils\n",
        "import torchvision.utils as vutils    \n",
        "import torchvision.models as models\n",
        "import cv2\n",
        "import torch\n",
        "import urllib.request\n",
        "\n",
        "import matplotlib.pyplot as plt\n",
        "from PIL import Image\n",
        "from skimage import io\n"
      ],
      "execution_count": 2,
      "outputs": []
    },
    {
      "cell_type": "markdown",
      "metadata": {
        "id": "J175XpEZ87su"
      },
      "source": [
        "# Download video from YouTube"
      ]
    },
    {
      "cell_type": "code",
      "metadata": {
        "id": "P0bIgCggoyqA"
      },
      "source": [
        "# !pip install pytube3"
      ],
      "execution_count": 3,
      "outputs": []
    },
    {
      "cell_type": "code",
      "metadata": {
        "id": "JHVKrrpXnPvj",
        "outputId": "8ce81b21-e7c5-44d6-dcad-d60d6dd9f8be",
        "colab": {
          "base_uri": "https://localhost:8080/"
        }
      },
      "source": [
        "!pip install git+https://github.com/nficano/pytube"
      ],
      "execution_count": 4,
      "outputs": [
        {
          "output_type": "stream",
          "text": [
            "Collecting git+https://github.com/nficano/pytube\n",
            "  Cloning https://github.com/nficano/pytube to /tmp/pip-req-build-mdnmu4_x\n",
            "  Running command git clone -q https://github.com/nficano/pytube /tmp/pip-req-build-mdnmu4_x\n",
            "Requirement already satisfied: typing_extensions in /usr/local/lib/python3.6/dist-packages (from pytube==9.7.1) (3.7.4.3)\n",
            "Building wheels for collected packages: pytube\n",
            "  Building wheel for pytube (setup.py) ... \u001b[?25l\u001b[?25hdone\n",
            "  Created wheel for pytube: filename=pytube-9.7.1-cp36-none-any.whl size=40437 sha256=ad52013050389e62cfc3dbb63f12b0298e60af8acc9f640bf10a2f92e21bf2ff\n",
            "  Stored in directory: /tmp/pip-ephem-wheel-cache-zzgloukw/wheels/44/da/40/3b5e03abe33a91895343814fb44b309512375408f4a909555b\n",
            "Successfully built pytube\n",
            "Installing collected packages: pytube\n",
            "Successfully installed pytube-9.7.1\n"
          ],
          "name": "stdout"
        }
      ]
    },
    {
      "cell_type": "code",
      "metadata": {
        "id": "OU_vUhvV8-NL",
        "outputId": "a6e0735e-4653-400f-c3e5-f0d71862d879",
        "colab": {
          "base_uri": "https://localhost:8080/",
          "height": 120
        }
      },
      "source": [
        "from pytube import YouTube\n",
        "from moviepy.editor import *\n",
        " \n",
        "# download a file from youtube\n",
        "youtube_link = 'https://www.youtube.com/watch?v=92U11ya1xuQ'\n",
        "w = YouTube(youtube_link).streams.first()\n",
        "w.download(output_path=\"/content/\")"
      ],
      "execution_count": 5,
      "outputs": [
        {
          "output_type": "stream",
          "text": [
            "Imageio: 'ffmpeg-linux64-v3.3.1' was not found on your computer; downloading it now.\n",
            "Try 1. Download from https://github.com/imageio/imageio-binaries/raw/master/ffmpeg/ffmpeg-linux64-v3.3.1 (43.8 MB)\n",
            "Downloading: 8192/45929032 bytes (0.0%)\b\b\b\b\b\b\b\b\b\b\b\b\b\b\b\b\b\b\b\b\b\b\b\b\b\b4055040/45929032 bytes (8.8%)\b\b\b\b\b\b\b\b\b\b\b\b\b\b\b\b\b\b\b\b\b\b\b\b\b\b\b\b\b8290304/45929032 bytes (18.1%)\b\b\b\b\b\b\b\b\b\b\b\b\b\b\b\b\b\b\b\b\b\b\b\b\b\b\b\b\b\b12279808/45929032 bytes (26.7%)\b\b\b\b\b\b\b\b\b\b\b\b\b\b\b\b\b\b\b\b\b\b\b\b\b\b\b\b\b\b\b16121856/45929032 bytes (35.1%)\b\b\b\b\b\b\b\b\b\b\b\b\b\b\b\b\b\b\b\b\b\b\b\b\b\b\b\b\b\b\b20217856/45929032 bytes (44.0%)\b\b\b\b\b\b\b\b\b\b\b\b\b\b\b\b\b\b\b\b\b\b\b\b\b\b\b\b\b\b\b23896064/45929032 bytes (52.0%)\b\b\b\b\b\b\b\b\b\b\b\b\b\b\b\b\b\b\b\b\b\b\b\b\b\b\b\b\b\b\b27852800/45929032 bytes (60.6%)\b\b\b\b\b\b\b\b\b\b\b\b\b\b\b\b\b\b\b\b\b\b\b\b\b\b\b\b\b\b\b31801344/45929032 bytes (69.2%)\b\b\b\b\b\b\b\b\b\b\b\b\b\b\b\b\b\b\b\b\b\b\b\b\b\b\b\b\b\b\b35602432/45929032 bytes (77.5%)\b\b\b\b\b\b\b\b\b\b\b\b\b\b\b\b\b\b\b\b\b\b\b\b\b\b\b\b\b\b\b39542784/45929032 bytes (86.1%)\b\b\b\b\b\b\b\b\b\b\b\b\b\b\b\b\b\b\b\b\b\b\b\b\b\b\b\b\b\b\b43614208/45929032 bytes (95.0%)\b\b\b\b\b\b\b\b\b\b\b\b\b\b\b\b\b\b\b\b\b\b\b\b\b\b\b\b\b\b\b45929032/45929032 bytes (100.0%)\n",
            "  Done\n",
            "File saved as /root/.imageio/ffmpeg/ffmpeg-linux64-v3.3.1.\n"
          ],
          "name": "stdout"
        },
        {
          "output_type": "execute_result",
          "data": {
            "application/vnd.google.colaboratory.intrinsic+json": {
              "type": "string"
            },
            "text/plain": [
              "'/content/28 WAYS TO PEEL AND CUT FRUITS LIKE A PRO.mp4'"
            ]
          },
          "metadata": {
            "tags": []
          },
          "execution_count": 5
        }
      ]
    },
    {
      "cell_type": "code",
      "metadata": {
        "id": "-5NFrdab5qT9"
      },
      "source": [
        "Location_video='/content/28 WAYS TO PEEL AND CUT FRUITS LIKE A PRO.mp4'"
      ],
      "execution_count": 6,
      "outputs": []
    },
    {
      "cell_type": "markdown",
      "metadata": {
        "id": "1GXSXYDl6LQi"
      },
      "source": [
        "##Proces video"
      ]
    },
    {
      "cell_type": "markdown",
      "metadata": {
        "id": "j1xG81NS6O0N"
      },
      "source": [
        "###Split video to images"
      ]
    },
    {
      "cell_type": "code",
      "metadata": {
        "id": "K55YDz0D5XUN"
      },
      "source": [
        "## I just did about 6000 images\n",
        "os.mkdir('/content/test_vid/')\n",
        "os.mkdir('/content/test_vid/Frames/')\n",
        "# converting video into frames\n",
        "vidcap = cv2.VideoCapture(Location_video)\n",
        "success,image = vidcap.read()\n",
        "count = 0\n",
        "while success:\n",
        "  cv2.imwrite(\"/content/test_vid/Frames/%d.jpg\" % count, image)     # save frame as JPEG file      \n",
        "  success,image = vidcap.read()\n",
        "  print('Read a new frame:%d, ',count, success)\n",
        "  count += 1"
      ],
      "execution_count": null,
      "outputs": []
    },
    {
      "cell_type": "code",
      "metadata": {
        "id": "fWhtif6T9xlx"
      },
      "source": [
        "##zero padding every image name in folder to get the right order\n",
        "import shutil\n",
        "import os\n",
        "\n",
        "sourcedir = \"/content/test_vid/Frames\"; extensions = (\".jpg\", \".jpeg\")\n",
        "files = [(f, f[f.rfind(\".\"):], f[:f.rfind(\".\")]) for f in os.listdir(sourcedir)if f.endswith(extensions)]\n",
        "maxlen = len(max([f[2] for f in files], key = len))\n",
        "\n",
        "for item in files:\n",
        "    zeros = maxlen-len(item[2])\n",
        "    shutil.move(sourcedir+\"/\"+item[0], sourcedir+\"/\"+str(zeros*\"0\")+item[0])"
      ],
      "execution_count": 8,
      "outputs": []
    },
    {
      "cell_type": "markdown",
      "metadata": {
        "id": "3KrxrIuE6kow"
      },
      "source": [
        "###Get model from github"
      ]
    },
    {
      "cell_type": "markdown",
      "metadata": {
        "id": "6xNjk-7x66St"
      },
      "source": [
        " github model --> https://pytorch.org/hub/intelisl_midas_v2/"
      ]
    },
    {
      "cell_type": "code",
      "metadata": {
        "id": "JJj6CrYDSfFX"
      },
      "source": [
        "os.mkdir('/content/test_vid/new_model')"
      ],
      "execution_count": 9,
      "outputs": []
    },
    {
      "cell_type": "code",
      "metadata": {
        "id": "CKqBl4tCIcHy"
      },
      "source": [
        "#Used GPU\n",
        "midas = torch.hub.load(\"intel-isl/MiDaS\", \"MiDaS\")\n",
        "\n",
        "device = torch.device(\"cuda\") if torch.cuda.is_available() else torch.device(\"cpu\")\n",
        "midas.to(device)\n",
        "midas.eval()"
      ],
      "execution_count": null,
      "outputs": []
    },
    {
      "cell_type": "code",
      "metadata": {
        "id": "eKNOuaKfODm1",
        "outputId": "aa2c77da-99bc-4452-f37b-31d17953d22b",
        "colab": {
          "base_uri": "https://localhost:8080/"
        }
      },
      "source": [
        "midas_transforms = torch.hub.load(\"intel-isl/MiDaS\", \"transforms\")\n",
        "transform = midas_transforms.default_transform"
      ],
      "execution_count": 11,
      "outputs": [
        {
          "output_type": "stream",
          "text": [
            "Using cache found in /root/.cache/torch/hub/intel-isl_MiDaS_master\n"
          ],
          "name": "stderr"
        }
      ]
    },
    {
      "cell_type": "markdown",
      "metadata": {
        "id": "HRmERKIP6qRA"
      },
      "source": [
        "### Proces images"
      ]
    },
    {
      "cell_type": "code",
      "metadata": {
        "id": "YUX8W9g9WPPo"
      },
      "source": [
        "import time"
      ],
      "execution_count": 27,
      "outputs": []
    },
    {
      "cell_type": "code",
      "metadata": {
        "id": "mpBHiGs8aHEi",
        "outputId": "9e4c19a6-8104-4bc5-8b0f-20e31278ac8c",
        "colab": {
          "base_uri": "https://localhost:8080/",
          "height": 588
        }
      },
      "source": [
        "number=0 # each image will be named with numbers\n",
        "time_array = []\n",
        "\n",
        "\n",
        "\n",
        "path1_depth = '/content/test_vid/Frames'\n",
        "data_depth = os.listdir(path1_depth)\n",
        "ordedered_list = sorted(data_depth)\n",
        "ordedered_list = ordedered_list[1500:]\n",
        "\n",
        "\n",
        "## put image through model\n",
        "for e in ordedered_list:\n",
        "  start_time = time.clock()\n",
        "  input = '/content/test_vid/Frames/' + e\n",
        "  if number % 10 == 0:\n",
        "    print(input)\n",
        "    print(time_array[-1:])\n",
        "\n",
        "  input_batch = transform(img).to(device)\n",
        "\n",
        "  with torch.no_grad():\n",
        "    prediction = midas(input_batch)\n",
        "\n",
        "    prediction = torch.nn.functional.interpolate(\n",
        "        prediction.unsqueeze(1),\n",
        "        size=img.shape[:2],\n",
        "        mode=\"bicubic\",\n",
        "        align_corners=False,\n",
        "    ).squeeze()\n",
        "  \n",
        "  # saves the mathplot image\n",
        "  output = prediction.cpu().numpy()\n",
        "  plt.imshow(output)\n",
        "  plt.axis('off')\n",
        "\n",
        "  out = \"/content/test_vid/new_model/%d.jpg\" % number\n",
        "  plt.savefig(out, bbox_inches='tight')\n",
        "    \n",
        "\n",
        "  # time_array = time.time() - start_time\n",
        "  set_time_array = time.clock() - start_time\n",
        "  time_array.append(set_time_array)\n",
        "  \n",
        "  number += 1\n",
        "\n"
      ],
      "execution_count": 51,
      "outputs": [
        {
          "output_type": "stream",
          "text": [
            "/content/test_vid/Frames/1500.jpg\n",
            "[]\n",
            "/content/test_vid/Frames/1510.jpg\n",
            "[0.3788910000000669]\n",
            "/content/test_vid/Frames/1520.jpg\n",
            "[0.6381180000000768]\n",
            "/content/test_vid/Frames/1530.jpg\n",
            "[0.9068689999999151]\n",
            "/content/test_vid/Frames/1540.jpg\n",
            "[1.2063100000000304]\n",
            "/content/test_vid/Frames/1550.jpg\n",
            "[1.481113999999934]\n",
            "/content/test_vid/Frames/1560.jpg\n",
            "[1.7373130000000856]\n",
            "/content/test_vid/Frames/1570.jpg\n",
            "[1.9927670000001854]\n",
            "/content/test_vid/Frames/1580.jpg\n",
            "[2.303831000000173]\n",
            "/content/test_vid/Frames/1590.jpg\n",
            "[2.559718999999859]\n"
          ],
          "name": "stdout"
        },
        {
          "output_type": "display_data",
          "data": {
            "image/png": "[encoded data removed]",
            "text/plain": [
              "<Figure size 432x288 with 1 Axes>"
            ]
          },
          "metadata": {
            "tags": [],
            "needs_background": "light"
          }
        }
      ]
    },
    {
      "cell_type": "code",
      "metadata": {
        "id": "V_mIEammalWT",
        "outputId": "7e589a8d-8aa8-4cf8-a61e-186c306ad764",
        "colab": {
          "base_uri": "https://localhost:8080/",
          "height": 265
        }
      },
      "source": [
        "import matplotlib.pyplot as plt\n",
        "\n",
        "x = [i for i in range(99)]\n",
        "y = time_array\n",
        "# print(y)\n",
        "\n",
        "# plot\n",
        "plt.plot(x,y)\n",
        "# beautify the x-labels\n",
        "# plt.gcf().autofmt_xdate()\n",
        "\n",
        "plt.show()\n"
      ],
      "execution_count": 54,
      "outputs": [
        {
          "output_type": "display_data",
          "data": {
            "image/png": "[encoded data removed]",
            "text/plain": [
              "<Figure size 432x288 with 1 Axes>"
            ]
          },
          "metadata": {
            "tags": [],
            "needs_background": "light"
          }
        }
      ]
    },
    {
      "cell_type": "code",
      "metadata": {
        "id": "2_ImWgQh3i6F"
      },
      "source": [
        "##zero padding every image name in folder to get the right order\n",
        "import shutil\n",
        "import os\n",
        "\n",
        "sourcedir = \"/content/test_vid/new_model\"; extensions = (\".jpg\", \".jpeg\")\n",
        "files = [(f, f[f.rfind(\".\"):], f[:f.rfind(\".\")]) for f in os.listdir(sourcedir)if f.endswith(extensions)]\n",
        "maxlen = len(max([f[2] for f in files], key = len))\n",
        "\n",
        "for item in files:\n",
        "    zeros = maxlen-len(item[2])\n",
        "    shutil.move(sourcedir+\"/\"+item[0], sourcedir+\"/\"+str(zeros*\"0\")+item[0])"
      ],
      "execution_count": null,
      "outputs": []
    },
    {
      "cell_type": "code",
      "metadata": {
        "id": "x5lc_Fb7VBIw"
      },
      "source": [
        "assert False"
      ],
      "execution_count": null,
      "outputs": []
    },
    {
      "cell_type": "markdown",
      "metadata": {
        "id": "Wy8CcgdA-nHR"
      },
      "source": [
        "##Converting it back to a video"
      ]
    },
    {
      "cell_type": "code",
      "metadata": {
        "id": "Lo88J0iN-qZG"
      },
      "source": [
        "from os.path import isfile, join\n",
        " \n",
        "def convert_frames_to_video(pathIn,pathOut,fps):\n",
        "    frame_array = []\n",
        "    files = [f for f in os.listdir(pathIn) if isfile(join(pathIn, f))]\n",
        " \n",
        "    #for sorting the file names properly\n",
        "    #files.sort(key = lambda x: int(x[5:-4]))\n",
        "    files = sorted(files)\n",
        "    for i in range(len(files)):\n",
        "        filename=pathIn + files[i]\n",
        "        #reading each files\n",
        "        img = cv2.imread(filename)\n",
        "        height, width, layers = img.shape\n",
        "        size = (width,height)\n",
        "        print(filename)\n",
        "        #inserting the frames into an image array\n",
        "        frame_array.append(img)\n",
        " \n",
        "    out = cv2.VideoWriter(pathOut,cv2.VideoWriter_fourcc(*'MP4V'), fps, size)\n",
        " \n",
        "    for i in range(len(frame_array)):\n",
        "        # writing to a image array\n",
        "        out.write(frame_array[i])\n",
        "    out.release()"
      ],
      "execution_count": null,
      "outputs": []
    },
    {
      "cell_type": "code",
      "metadata": {
        "id": "HDgxqQii-xzz"
      },
      "source": [
        "pathIn= '/content/test_vid/new_model/'\n",
        "pathOut = '/content/video1.mp4'\n",
        "#enter the correct frame rates\n",
        "fps = 30\n",
        "convert_frames_to_video(pathIn, pathOut, fps)"
      ],
      "execution_count": null,
      "outputs": []
    },
    {
      "cell_type": "markdown",
      "metadata": {
        "id": "wYqw1O3-_Dmy"
      },
      "source": [
        "### Download video"
      ]
    },
    {
      "cell_type": "code",
      "metadata": {
        "id": "PMNVee17_I0l"
      },
      "source": [
        "assert False"
      ],
      "execution_count": null,
      "outputs": []
    },
    {
      "cell_type": "code",
      "metadata": {
        "id": "HvcGOKOm-2RK"
      },
      "source": [
        "#Downloading video\n",
        "from google.colab import files\n",
        "files.download('/content/video1.mp4') "
      ],
      "execution_count": null,
      "outputs": []
    }
  ]
}