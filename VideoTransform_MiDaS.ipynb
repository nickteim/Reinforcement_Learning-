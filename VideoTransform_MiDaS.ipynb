{
  "nbformat": 4,
  "nbformat_minor": 0,
  "metadata": {
    "colab": {
      "name": "VideoTransform_MiDaS.ipynb",
      "provenance": [],
      "toc_visible": true,
      "authorship_tag": "ABX9TyMlJrF7VUqGGkKTVr5g8VzW",
      "include_colab_link": true
    },
    "kernelspec": {
      "name": "python3",
      "display_name": "Python 3"
    },
    "accelerator": "GPU"
  },
  "cells": [
    {
      "cell_type": "markdown",
      "metadata": {
        "id": "view-in-github",
        "colab_type": "text"
      },
      "source": [
        "<a href=\"https://colab.research.google.com/github/nickteim/Reinforcement_Learning-/blob/main/VideoTransform_MiDaS.ipynb\" target=\"_parent\"><img src=\"https://colab.research.google.com/assets/colab-badge.svg\" alt=\"Open In Colab\"/></a>"
      ]
    },
    {
      "cell_type": "markdown",
      "metadata": {
        "id": "St2ItQMS5_2V"
      },
      "source": [
        "## Libraries"
      ]
    },
    {
      "cell_type": "code",
      "metadata": {
        "id": "tyuJYNQY5u-b"
      },
      "source": [
        "import os\n",
        "import glob\n",
        "import time\n",
        "from PIL import Image\n",
        "import numpy as np\n",
        "import PIL\n",
        "import random\n",
        "import torch\n",
        "import matplotlib.pyplot as plt\n",
        "from torch.utils.data import Dataset, DataLoader\n",
        "from torchvision import transforms, utils"
      ],
      "execution_count": 2,
      "outputs": []
    },
    {
      "cell_type": "code",
      "metadata": {
        "id": "Ae3gsZff50h2"
      },
      "source": [
        "import os\n",
        "import glob\n",
        "import time\n",
        "from PIL import Image\n",
        "import numpy as np\n",
        "import PIL\n",
        "import random\n",
        "import torch\n",
        "import matplotlib.pyplot as plt\n",
        "from torch.utils.data import Dataset, DataLoader\n",
        "from torchvision import transforms, utils\n",
        "import torch.nn as nn\n",
        "import torch.nn.utils as utils\n",
        "import torchvision.utils as vutils    \n",
        "import torchvision.models as models\n",
        "import cv2\n",
        "import torch\n",
        "import urllib.request\n",
        "\n",
        "import matplotlib.pyplot as plt\n",
        "from PIL import Image\n",
        "from skimage import io\n"
      ],
      "execution_count": 3,
      "outputs": []
    },
    {
      "cell_type": "markdown",
      "metadata": {
        "id": "J175XpEZ87su"
      },
      "source": [
        "# Upload video"
      ]
    },
    {
      "cell_type": "code",
      "metadata": {
        "id": "P0bIgCggoyqA",
        "outputId": "2f68d4ea-5c88-4bf9-8894-fd1a74ae7961",
        "colab": {
          "base_uri": "https://localhost:8080/"
        }
      },
      "source": [
        "# !pip install pytube3"
      ],
      "execution_count": null,
      "outputs": [
        {
          "output_type": "stream",
          "text": [
            "Collecting pytube3\n",
            "  Downloading https://files.pythonhosted.org/packages/de/86/198092763646eac7abd2063192ab44ea44ad8fd6d6f3ad8586b38afcd52a/pytube3-9.6.4-py3-none-any.whl\n",
            "Requirement already satisfied: typing-extensions in /usr/local/lib/python3.6/dist-packages (from pytube3) (3.7.4.3)\n",
            "Installing collected packages: pytube3\n",
            "Successfully installed pytube3-9.6.4\n"
          ],
          "name": "stdout"
        }
      ]
    },
    {
      "cell_type": "code",
      "metadata": {
        "id": "JHVKrrpXnPvj",
        "outputId": "0a61b57f-a9fa-4542-8800-14efa46cec1c",
        "colab": {
          "base_uri": "https://localhost:8080/"
        }
      },
      "source": [
        "!pip install git+https://github.com/nficano/pytube"
      ],
      "execution_count": 10,
      "outputs": [
        {
          "output_type": "stream",
          "text": [
            "Collecting git+https://github.com/nficano/pytube\n",
            "  Cloning https://github.com/nficano/pytube to /tmp/pip-req-build-4ytovl50\n",
            "  Running command git clone -q https://github.com/nficano/pytube /tmp/pip-req-build-4ytovl50\n",
            "Requirement already satisfied: typing_extensions in /usr/local/lib/python3.6/dist-packages (from pytube==9.7.0) (3.7.4.3)\n",
            "Building wheels for collected packages: pytube\n",
            "  Building wheel for pytube (setup.py) ... \u001b[?25l\u001b[?25hdone\n",
            "  Created wheel for pytube: filename=pytube-9.7.0-cp36-none-any.whl size=40388 sha256=aec77e1b95e399bdf7200db8c44298874bd7df4ce00663833dfc25d3fee1c214\n",
            "  Stored in directory: /tmp/pip-ephem-wheel-cache-7eqw3u8x/wheels/44/da/40/3b5e03abe33a91895343814fb44b309512375408f4a909555b\n",
            "Successfully built pytube\n",
            "Installing collected packages: pytube\n",
            "Successfully installed pytube-9.7.0\n"
          ],
          "name": "stdout"
        }
      ]
    },
    {
      "cell_type": "code",
      "metadata": {
        "id": "OU_vUhvV8-NL",
        "outputId": "071087f7-7e12-4760-97f1-f9b1635414c9",
        "colab": {
          "base_uri": "https://localhost:8080/",
          "height": 120
        }
      },
      "source": [
        "from pytube import YouTube\n",
        "from moviepy.editor import *\n",
        " \n",
        "# download a file from youtube\n",
        "youtube_link = 'https://www.youtube.com/watch?v=92U11ya1xuQ'\n",
        "w = YouTube(youtube_link).streams.first()\n",
        "w.download(output_path=\"/content/\")"
      ],
      "execution_count": 11,
      "outputs": [
        {
          "output_type": "stream",
          "text": [
            "Imageio: 'ffmpeg-linux64-v3.3.1' was not found on your computer; downloading it now.\n",
            "Try 1. Download from https://github.com/imageio/imageio-binaries/raw/master/ffmpeg/ffmpeg-linux64-v3.3.1 (43.8 MB)\n",
            "Downloading: 8192/45929032 bytes (0.0%)\b\b\b\b\b\b\b\b\b\b\b\b\b\b\b\b\b\b\b\b\b\b\b\b\b\b1302528/45929032 bytes (2.8%)\b\b\b\b\b\b\b\b\b\b\b\b\b\b\b\b\b\b\b\b\b\b\b\b\b\b\b\b\b3915776/45929032 bytes (8.5%)\b\b\b\b\b\b\b\b\b\b\b\b\b\b\b\b\b\b\b\b\b\b\b\b\b\b\b\b\b7725056/45929032 bytes (16.8%)\b\b\b\b\b\b\b\b\b\b\b\b\b\b\b\b\b\b\b\b\b\b\b\b\b\b\b\b\b\b11812864/45929032 bytes (25.7%)\b\b\b\b\b\b\b\b\b\b\b\b\b\b\b\b\b\b\b\b\b\b\b\b\b\b\b\b\b\b\b16031744/45929032 bytes (34.9%)\b\b\b\b\b\b\b\b\b\b\b\b\b\b\b\b\b\b\b\b\b\b\b\b\b\b\b\b\b\b\b20152320/45929032 bytes (43.9%)\b\b\b\b\b\b\b\b\b\b\b\b\b\b\b\b\b\b\b\b\b\b\b\b\b\b\b\b\b\b\b24330240/45929032 bytes (53.0%)\b\b\b\b\b\b\b\b\b\b\b\b\b\b\b\b\b\b\b\b\b\b\b\b\b\b\b\b\b\b\b28459008/45929032 bytes (62.0%)\b\b\b\b\b\b\b\b\b\b\b\b\b\b\b\b\b\b\b\b\b\b\b\b\b\b\b\b\b\b\b32612352/45929032 bytes (71.0%)\b\b\b\b\b\b\b\b\b\b\b\b\b\b\b\b\b\b\b\b\b\b\b\b\b\b\b\b\b\b\b36765696/45929032 bytes (80.0%)\b\b\b\b\b\b\b\b\b\b\b\b\b\b\b\b\b\b\b\b\b\b\b\b\b\b\b\b\b\b\b40919040/45929032 bytes (89.1%)\b\b\b\b\b\b\b\b\b\b\b\b\b\b\b\b\b\b\b\b\b\b\b\b\b\b\b\b\b\b\b44859392/45929032 bytes (97.7%)\b\b\b\b\b\b\b\b\b\b\b\b\b\b\b\b\b\b\b\b\b\b\b\b\b\b\b\b\b\b\b45929032/45929032 bytes (100.0%)\n",
            "  Done\n",
            "File saved as /root/.imageio/ffmpeg/ffmpeg-linux64-v3.3.1.\n"
          ],
          "name": "stdout"
        },
        {
          "output_type": "execute_result",
          "data": {
            "application/vnd.google.colaboratory.intrinsic+json": {
              "type": "string"
            },
            "text/plain": [
              "'/content/28 WAYS TO PEEL AND CUT FRUITS LIKE A PRO.mp4'"
            ]
          },
          "metadata": {
            "tags": []
          },
          "execution_count": 11
        }
      ]
    },
    {
      "cell_type": "code",
      "metadata": {
        "id": "-5NFrdab5qT9"
      },
      "source": [
        "Location_video='/content/28 WAYS TO PEEL AND CUT FRUITS LIKE A PRO.mp4'"
      ],
      "execution_count": 12,
      "outputs": []
    },
    {
      "cell_type": "markdown",
      "metadata": {
        "id": "1GXSXYDl6LQi"
      },
      "source": [
        "##Proces video"
      ]
    },
    {
      "cell_type": "markdown",
      "metadata": {
        "id": "j1xG81NS6O0N"
      },
      "source": [
        "###Split video to images"
      ]
    },
    {
      "cell_type": "code",
      "metadata": {
        "id": "K55YDz0D5XUN"
      },
      "source": [
        "## I just did about 6000 images\n",
        "os.mkdir('/content/test_vid/')\n",
        "os.mkdir('/content/test_vid/Frames/')\n",
        "# converting video into frames\n",
        "vidcap = cv2.VideoCapture(Location_video)\n",
        "success,image = vidcap.read()\n",
        "count = 0\n",
        "while success:\n",
        "  cv2.imwrite(\"/content/test_vid/Frames/%d.jpg\" % count, image)     # save frame as JPEG file      \n",
        "  success,image = vidcap.read()\n",
        "  print('Read a new frame:%d, ',count, success)\n",
        "  count += 1"
      ],
      "execution_count": null,
      "outputs": []
    },
    {
      "cell_type": "code",
      "metadata": {
        "id": "fWhtif6T9xlx"
      },
      "source": [
        "##zero padding every image name in folder to get the right order\n",
        "import shutil\n",
        "import os\n",
        "\n",
        "sourcedir = \"/content/test_vid/Frames\"; extensions = (\".jpg\", \".jpeg\")\n",
        "files = [(f, f[f.rfind(\".\"):], f[:f.rfind(\".\")]) for f in os.listdir(sourcedir)if f.endswith(extensions)]\n",
        "maxlen = len(max([f[2] for f in files], key = len))\n",
        "\n",
        "for item in files:\n",
        "    zeros = maxlen-len(item[2])\n",
        "    shutil.move(sourcedir+\"/\"+item[0], sourcedir+\"/\"+str(zeros*\"0\")+item[0])"
      ],
      "execution_count": 15,
      "outputs": []
    },
    {
      "cell_type": "markdown",
      "metadata": {
        "id": "3KrxrIuE6kow"
      },
      "source": [
        "###Get model from github"
      ]
    },
    {
      "cell_type": "markdown",
      "metadata": {
        "id": "6xNjk-7x66St"
      },
      "source": [
        " github model --> https://pytorch.org/hub/intelisl_midas_v2/"
      ]
    },
    {
      "cell_type": "code",
      "metadata": {
        "id": "JJj6CrYDSfFX"
      },
      "source": [
        "os.mkdir('/content/test_vid/new_model')"
      ],
      "execution_count": 16,
      "outputs": []
    },
    {
      "cell_type": "code",
      "metadata": {
        "id": "2ce5iPFhOB03"
      },
      "source": [
        "#Running it on a GPU\n",
        "midas = torch.hub.load(\"intel-isl/MiDaS\", \"MiDaS\")\n",
        "\n",
        "device = torch.device(\"cuda\") if torch.cuda.is_available() else torch.device(\"cpu\")\n",
        "midas.to(device)\n",
        "midas.eval()"
      ],
      "execution_count": null,
      "outputs": []
    },
    {
      "cell_type": "code",
      "metadata": {
        "id": "eKNOuaKfODm1",
        "outputId": "edef0f3a-7149-47c3-8320-d10067a78a7d",
        "colab": {
          "base_uri": "https://localhost:8080/"
        }
      },
      "source": [
        "midas_transforms = torch.hub.load(\"intel-isl/MiDaS\", \"transforms\")\n",
        "transform = midas_transforms.default_transform"
      ],
      "execution_count": 5,
      "outputs": [
        {
          "output_type": "stream",
          "text": [
            "Using cache found in /root/.cache/torch/hub/intel-isl_MiDaS_master\n"
          ],
          "name": "stderr"
        }
      ]
    },
    {
      "cell_type": "code",
      "metadata": {
        "id": "SSTJO3K5O2K_"
      },
      "source": [
        "# filename= '/content/test_vid/Frames/0000.jpg'"
      ],
      "execution_count": null,
      "outputs": []
    },
    {
      "cell_type": "markdown",
      "metadata": {
        "id": "HRmERKIP6qRA"
      },
      "source": [
        "### Proces images"
      ]
    },
    {
      "cell_type": "code",
      "metadata": {
        "id": "-7q82gQKjBhV"
      },
      "source": [
        "def setter_inew_model():\n",
        "  path1_depth = '/content/test_vid/Frames'\n",
        "  data_depth = os.listdir(path1_depth)\n",
        "  ordedered_list = sorted(data_depth)\n",
        "  ordedered_list = ordedered_list\n"
      ],
      "execution_count": 17,
      "outputs": []
    },
    {
      "cell_type": "code",
      "metadata": {
        "id": "wR7LpBfaQYbl"
      },
      "source": [
        "path1_depth = '/content/test_vid/Frames'\n",
        "data_depth = os.listdir(path1_depth)\n",
        "ordedered_list = sorted(data_depth)\n",
        "ordedered_list = ordedered_list[1500:]\n",
        "\n",
        "# count = 0\n",
        "def images(number):\n",
        "  for e in ordedered_list[:1]:\n",
        "    c = e\n",
        "    input = '/content/test_vid/Frames/'+c\n",
        "    print(input)\n",
        "    img_ori = io.imread(input)\n",
        "    # # print(input)(imgUMat),\n",
        "    img = cv2.cvtColor(img_ori, cv2.COLOR_BGR2RGB)\n",
        "\n",
        "    input_batch = transform(img).to(device)\n",
        "\n",
        "    with torch.no_grad():\n",
        "      prediction = midas(input_batch)\n",
        "\n",
        "      prediction = torch.nn.functional.interpolate(\n",
        "          prediction.unsqueeze(1),\n",
        "          size=img.shape[:2],\n",
        "          mode=\"bicubic\",\n",
        "          align_corners=False,\n",
        "      ).squeeze()\n",
        "      \n",
        "    output = prediction.cpu().numpy()\n",
        "    plt.imshow(output)\n",
        "    plt.axis('off')\n",
        "    # number = 'f0' +'1'+ '.png'\n",
        "    out = \"/content/food%d.png\" % number\n",
        "    plt.savefig(out, bbox_inches='tight')\n",
        "   \n",
        "\n",
        "    \n",
        "\n"
      ],
      "execution_count": 18,
      "outputs": []
    },
    {
      "cell_type": "code",
      "metadata": {
        "id": "BYUfmBBLli5z"
      },
      "source": [
        "def move_image_new_model(number):  \n",
        "  for e in ordedered_list[:1]:\n",
        "    out = \"/content/food%d.png\" % number\n",
        "    \n",
        "    im = Image.open(out)\n",
        "    im.mode\n",
        "    'P'\n",
        "    im = im.convert('RGB')\n",
        "    im.mode\n",
        "    'RGB'\n",
        "    out1 = \"/content/test_vid/new_model/%d.jpg\" % number\n",
        "    im.save(out1, quality=95)\n",
        "    os.remove(out)"
      ],
      "execution_count": 19,
      "outputs": []
    },
    {
      "cell_type": "code",
      "metadata": {
        "id": "CRnSn5SdjFQY"
      },
      "source": [
        "path1_depth = '/content/test_vid/Frames'\n",
        "data_depth = os.listdir(path1_depth)\n",
        "ordedered_list = sorted(data_depth)\n",
        "# ordedered_list =\n",
        "\n",
        "\n",
        "# path1_depth2 = '/content'\n",
        "# data_depth2 = os.listdir(path1_depth2)\n",
        "# ordedered_list2 = sorted(data_depth2)\n",
        "# print(ordedered_list2[5])\n",
        "\n",
        "def remove(number):\n",
        "  for i in  ordedered_list[:1]:\n",
        "    from_folder = '/content/test_vid/Frames/' + i\n",
        "    print(\"Removed: \", from_folder)\n",
        "    os.remove(from_folder)\n",
        "    \n",
        "  # for e in ordedered_list2[:1]:\n",
        "  #   from_folder2 = '/content/' + i\n",
        "  #   print(\"Removed: \", from_folder2)\n",
        "  #   os.remove(from_folder2)"
      ],
      "execution_count": 20,
      "outputs": []
    },
    {
      "cell_type": "code",
      "metadata": {
        "id": "mpBHiGs8aHEi",
        "outputId": "f955c17a-a25e-485b-9f48-6de16b48fcc1",
        "colab": {
          "base_uri": "https://localhost:8080/",
          "height": 1000
        }
      },
      "source": [
        "number=0\n",
        "\n",
        "# for i in range(1):\n",
        "for i in range(1000):\n",
        "  \n",
        "  setter_inew_model()\n",
        "\n",
        "  \n",
        "  path1_depth = '/content/test_vid/Frames'\n",
        "  data_depth = os.listdir(path1_depth)\n",
        "  ordedered_list = sorted(data_depth)\n",
        "  ordedered_list = ordedered_list[1500:]\n",
        "\n",
        "  # count = 0\n",
        "\n",
        "  for e in ordedered_list[:1]:\n",
        "    c = e\n",
        "    input = '/content/test_vid/Frames/'+c\n",
        "    print(input)\n",
        "    img_ori = io.imread(input)\n",
        "    # # print(input)(imgUMat),\n",
        "    img = cv2.cvtColor(img_ori, cv2.COLOR_BGR2RGB)\n",
        "\n",
        "    input_batch = transform(img).to(device)\n",
        "\n",
        "    with torch.no_grad():\n",
        "      prediction = midas(input_batch)\n",
        "\n",
        "      prediction = torch.nn.functional.interpolate(\n",
        "          prediction.unsqueeze(1),\n",
        "          size=img.shape[:2],\n",
        "          mode=\"bicubic\",\n",
        "          align_corners=False,\n",
        "      ).squeeze()\n",
        "      \n",
        "    output = prediction.cpu().numpy()\n",
        "    plt.imshow(output)\n",
        "    plt.axis('off')\n",
        "    # number = 'f0' +'1'+ '.png'\n",
        "    out = \"/content/food%d.png\" % number\n",
        "    plt.savefig(out, bbox_inches='tight')\n",
        "      \n",
        "\n",
        "      \n",
        "    \n",
        "  move_image_new_model(number)\n",
        "  remove(number)\n",
        "  number += 1\n",
        "\n",
        "  # for i in range(1):\n",
        "  #  \n",
        "\n",
        "  # for i in range(1):\n",
        "    # \n",
        "\n",
        "   \n"
      ],
      "execution_count": 21,
      "outputs": [
        {
          "output_type": "stream",
          "text": [
            "/content/test_vid/Frames/1500.jpg\n",
            "Removed:  /content/test_vid/Frames/1500.jpg\n",
            "/content/test_vid/Frames/1501.jpg\n",
            "Removed:  /content/test_vid/Frames/1501.jpg\n",
            "/content/test_vid/Frames/1502.jpg\n",
            "Removed:  /content/test_vid/Frames/1502.jpg\n",
            "/content/test_vid/Frames/1503.jpg\n",
            "Removed:  /content/test_vid/Frames/1503.jpg\n",
            "/content/test_vid/Frames/1504.jpg\n",
            "Removed:  /content/test_vid/Frames/1504.jpg\n",
            "/content/test_vid/Frames/1505.jpg\n",
            "Removed:  /content/test_vid/Frames/1505.jpg\n",
            "/content/test_vid/Frames/1506.jpg\n",
            "Removed:  /content/test_vid/Frames/1506.jpg\n",
            "/content/test_vid/Frames/1507.jpg\n",
            "Removed:  /content/test_vid/Frames/1507.jpg\n",
            "/content/test_vid/Frames/1508.jpg\n",
            "Removed:  /content/test_vid/Frames/1508.jpg\n",
            "/content/test_vid/Frames/1509.jpg\n",
            "Removed:  /content/test_vid/Frames/1509.jpg\n",
            "/content/test_vid/Frames/1510.jpg\n",
            "Removed:  /content/test_vid/Frames/1510.jpg\n",
            "/content/test_vid/Frames/1511.jpg\n",
            "Removed:  /content/test_vid/Frames/1511.jpg\n",
            "/content/test_vid/Frames/1512.jpg\n",
            "Removed:  /content/test_vid/Frames/1512.jpg\n",
            "/content/test_vid/Frames/1513.jpg\n",
            "Removed:  /content/test_vid/Frames/1513.jpg\n",
            "/content/test_vid/Frames/1514.jpg\n",
            "Removed:  /content/test_vid/Frames/1514.jpg\n",
            "/content/test_vid/Frames/1515.jpg\n",
            "Removed:  /content/test_vid/Frames/1515.jpg\n",
            "/content/test_vid/Frames/1516.jpg\n",
            "Removed:  /content/test_vid/Frames/1516.jpg\n",
            "/content/test_vid/Frames/1517.jpg\n",
            "Removed:  /content/test_vid/Frames/1517.jpg\n",
            "/content/test_vid/Frames/1518.jpg\n",
            "Removed:  /content/test_vid/Frames/1518.jpg\n",
            "/content/test_vid/Frames/1519.jpg\n",
            "Removed:  /content/test_vid/Frames/1519.jpg\n",
            "/content/test_vid/Frames/1520.jpg\n",
            "Removed:  /content/test_vid/Frames/1520.jpg\n",
            "/content/test_vid/Frames/1521.jpg\n",
            "Removed:  /content/test_vid/Frames/1521.jpg\n",
            "/content/test_vid/Frames/1522.jpg\n",
            "Removed:  /content/test_vid/Frames/1522.jpg\n",
            "/content/test_vid/Frames/1523.jpg\n",
            "Removed:  /content/test_vid/Frames/1523.jpg\n",
            "/content/test_vid/Frames/1524.jpg\n",
            "Removed:  /content/test_vid/Frames/1524.jpg\n",
            "/content/test_vid/Frames/1525.jpg\n",
            "Removed:  /content/test_vid/Frames/1525.jpg\n",
            "/content/test_vid/Frames/1526.jpg\n",
            "Removed:  /content/test_vid/Frames/1526.jpg\n",
            "/content/test_vid/Frames/1527.jpg\n",
            "Removed:  /content/test_vid/Frames/1527.jpg\n",
            "/content/test_vid/Frames/1528.jpg\n",
            "Removed:  /content/test_vid/Frames/1528.jpg\n",
            "/content/test_vid/Frames/1529.jpg\n",
            "Removed:  /content/test_vid/Frames/1529.jpg\n",
            "/content/test_vid/Frames/1530.jpg\n",
            "Removed:  /content/test_vid/Frames/1530.jpg\n",
            "/content/test_vid/Frames/1531.jpg\n",
            "Removed:  /content/test_vid/Frames/1531.jpg\n",
            "/content/test_vid/Frames/1532.jpg\n",
            "Removed:  /content/test_vid/Frames/1532.jpg\n",
            "/content/test_vid/Frames/1533.jpg\n",
            "Removed:  /content/test_vid/Frames/1533.jpg\n",
            "/content/test_vid/Frames/1534.jpg\n",
            "Removed:  /content/test_vid/Frames/1534.jpg\n",
            "/content/test_vid/Frames/1535.jpg\n",
            "Removed:  /content/test_vid/Frames/1535.jpg\n",
            "/content/test_vid/Frames/1536.jpg\n",
            "Removed:  /content/test_vid/Frames/1536.jpg\n",
            "/content/test_vid/Frames/1537.jpg\n",
            "Removed:  /content/test_vid/Frames/1537.jpg\n",
            "/content/test_vid/Frames/1538.jpg\n",
            "Removed:  /content/test_vid/Frames/1538.jpg\n",
            "/content/test_vid/Frames/1539.jpg\n",
            "Removed:  /content/test_vid/Frames/1539.jpg\n",
            "/content/test_vid/Frames/1540.jpg\n",
            "Removed:  /content/test_vid/Frames/1540.jpg\n",
            "/content/test_vid/Frames/1541.jpg\n",
            "Removed:  /content/test_vid/Frames/1541.jpg\n",
            "/content/test_vid/Frames/1542.jpg\n",
            "Removed:  /content/test_vid/Frames/1542.jpg\n",
            "/content/test_vid/Frames/1543.jpg\n",
            "Removed:  /content/test_vid/Frames/1543.jpg\n",
            "/content/test_vid/Frames/1544.jpg\n",
            "Removed:  /content/test_vid/Frames/1544.jpg\n",
            "/content/test_vid/Frames/1545.jpg\n",
            "Removed:  /content/test_vid/Frames/1545.jpg\n",
            "/content/test_vid/Frames/1546.jpg\n",
            "Removed:  /content/test_vid/Frames/1546.jpg\n",
            "/content/test_vid/Frames/1547.jpg\n",
            "Removed:  /content/test_vid/Frames/1547.jpg\n",
            "/content/test_vid/Frames/1548.jpg\n",
            "Removed:  /content/test_vid/Frames/1548.jpg\n",
            "/content/test_vid/Frames/1549.jpg\n",
            "Removed:  /content/test_vid/Frames/1549.jpg\n",
            "/content/test_vid/Frames/1550.jpg\n",
            "Removed:  /content/test_vid/Frames/1550.jpg\n",
            "/content/test_vid/Frames/1551.jpg\n",
            "Removed:  /content/test_vid/Frames/1551.jpg\n",
            "/content/test_vid/Frames/1552.jpg\n",
            "Removed:  /content/test_vid/Frames/1552.jpg\n",
            "/content/test_vid/Frames/1553.jpg\n",
            "Removed:  /content/test_vid/Frames/1553.jpg\n",
            "/content/test_vid/Frames/1554.jpg\n",
            "Removed:  /content/test_vid/Frames/1554.jpg\n",
            "/content/test_vid/Frames/1555.jpg\n",
            "Removed:  /content/test_vid/Frames/1555.jpg\n",
            "/content/test_vid/Frames/1556.jpg\n",
            "Removed:  /content/test_vid/Frames/1556.jpg\n",
            "/content/test_vid/Frames/1557.jpg\n",
            "Removed:  /content/test_vid/Frames/1557.jpg\n",
            "/content/test_vid/Frames/1558.jpg\n",
            "Removed:  /content/test_vid/Frames/1558.jpg\n",
            "/content/test_vid/Frames/1559.jpg\n",
            "Removed:  /content/test_vid/Frames/1559.jpg\n",
            "/content/test_vid/Frames/1560.jpg\n",
            "Removed:  /content/test_vid/Frames/1560.jpg\n",
            "/content/test_vid/Frames/1561.jpg\n",
            "Removed:  /content/test_vid/Frames/1561.jpg\n",
            "/content/test_vid/Frames/1562.jpg\n",
            "Removed:  /content/test_vid/Frames/1562.jpg\n",
            "/content/test_vid/Frames/1563.jpg\n",
            "Removed:  /content/test_vid/Frames/1563.jpg\n",
            "/content/test_vid/Frames/1564.jpg\n",
            "Removed:  /content/test_vid/Frames/1564.jpg\n",
            "/content/test_vid/Frames/1565.jpg\n"
          ],
          "name": "stdout"
        },
        {
          "output_type": "error",
          "ename": "KeyboardInterrupt",
          "evalue": "ignored",
          "traceback": [
            "\u001b[0;31m---------------------------------------------------------------------------\u001b[0m",
            "\u001b[0;31mKeyboardInterrupt\u001b[0m                         Traceback (most recent call last)",
            "\u001b[0;32m<ipython-input-21-c4febbecfade>\u001b[0m in \u001b[0;36m<module>\u001b[0;34m()\u001b[0m\n\u001b[1;32m     39\u001b[0m     \u001b[0;31m# number = 'f0' +'1'+ '.png'\u001b[0m\u001b[0;34m\u001b[0m\u001b[0;34m\u001b[0m\u001b[0;34m\u001b[0m\u001b[0m\n\u001b[1;32m     40\u001b[0m     \u001b[0mout\u001b[0m \u001b[0;34m=\u001b[0m \u001b[0;34m\"/content/food%d.png\"\u001b[0m \u001b[0;34m%\u001b[0m \u001b[0mnumber\u001b[0m\u001b[0;34m\u001b[0m\u001b[0;34m\u001b[0m\u001b[0m\n\u001b[0;32m---> 41\u001b[0;31m     \u001b[0mplt\u001b[0m\u001b[0;34m.\u001b[0m\u001b[0msavefig\u001b[0m\u001b[0;34m(\u001b[0m\u001b[0mout\u001b[0m\u001b[0;34m,\u001b[0m \u001b[0mbbox_inches\u001b[0m\u001b[0;34m=\u001b[0m\u001b[0;34m'tight'\u001b[0m\u001b[0;34m)\u001b[0m\u001b[0;34m\u001b[0m\u001b[0;34m\u001b[0m\u001b[0m\n\u001b[0m\u001b[1;32m     42\u001b[0m \u001b[0;34m\u001b[0m\u001b[0m\n\u001b[1;32m     43\u001b[0m \u001b[0;34m\u001b[0m\u001b[0m\n",
            "\u001b[0;32m/usr/local/lib/python3.6/dist-packages/matplotlib/pyplot.py\u001b[0m in \u001b[0;36msavefig\u001b[0;34m(*args, **kwargs)\u001b[0m\n\u001b[1;32m    721\u001b[0m \u001b[0;32mdef\u001b[0m \u001b[0msavefig\u001b[0m\u001b[0;34m(\u001b[0m\u001b[0;34m*\u001b[0m\u001b[0margs\u001b[0m\u001b[0;34m,\u001b[0m \u001b[0;34m**\u001b[0m\u001b[0mkwargs\u001b[0m\u001b[0;34m)\u001b[0m\u001b[0;34m:\u001b[0m\u001b[0;34m\u001b[0m\u001b[0;34m\u001b[0m\u001b[0m\n\u001b[1;32m    722\u001b[0m     \u001b[0mfig\u001b[0m \u001b[0;34m=\u001b[0m \u001b[0mgcf\u001b[0m\u001b[0;34m(\u001b[0m\u001b[0;34m)\u001b[0m\u001b[0;34m\u001b[0m\u001b[0;34m\u001b[0m\u001b[0m\n\u001b[0;32m--> 723\u001b[0;31m     \u001b[0mres\u001b[0m \u001b[0;34m=\u001b[0m \u001b[0mfig\u001b[0m\u001b[0;34m.\u001b[0m\u001b[0msavefig\u001b[0m\u001b[0;34m(\u001b[0m\u001b[0;34m*\u001b[0m\u001b[0margs\u001b[0m\u001b[0;34m,\u001b[0m \u001b[0;34m**\u001b[0m\u001b[0mkwargs\u001b[0m\u001b[0;34m)\u001b[0m\u001b[0;34m\u001b[0m\u001b[0;34m\u001b[0m\u001b[0m\n\u001b[0m\u001b[1;32m    724\u001b[0m     \u001b[0mfig\u001b[0m\u001b[0;34m.\u001b[0m\u001b[0mcanvas\u001b[0m\u001b[0;34m.\u001b[0m\u001b[0mdraw_idle\u001b[0m\u001b[0;34m(\u001b[0m\u001b[0;34m)\u001b[0m   \u001b[0;31m# need this if 'transparent=True' to reset colors\u001b[0m\u001b[0;34m\u001b[0m\u001b[0;34m\u001b[0m\u001b[0m\n\u001b[1;32m    725\u001b[0m     \u001b[0;32mreturn\u001b[0m \u001b[0mres\u001b[0m\u001b[0;34m\u001b[0m\u001b[0;34m\u001b[0m\u001b[0m\n",
            "\u001b[0;32m/usr/local/lib/python3.6/dist-packages/matplotlib/figure.py\u001b[0m in \u001b[0;36msavefig\u001b[0;34m(self, fname, transparent, **kwargs)\u001b[0m\n\u001b[1;32m   2201\u001b[0m             \u001b[0mself\u001b[0m\u001b[0;34m.\u001b[0m\u001b[0mpatch\u001b[0m\u001b[0;34m.\u001b[0m\u001b[0mset_visible\u001b[0m\u001b[0;34m(\u001b[0m\u001b[0mframeon\u001b[0m\u001b[0;34m)\u001b[0m\u001b[0;34m\u001b[0m\u001b[0;34m\u001b[0m\u001b[0m\n\u001b[1;32m   2202\u001b[0m \u001b[0;34m\u001b[0m\u001b[0m\n\u001b[0;32m-> 2203\u001b[0;31m         \u001b[0mself\u001b[0m\u001b[0;34m.\u001b[0m\u001b[0mcanvas\u001b[0m\u001b[0;34m.\u001b[0m\u001b[0mprint_figure\u001b[0m\u001b[0;34m(\u001b[0m\u001b[0mfname\u001b[0m\u001b[0;34m,\u001b[0m \u001b[0;34m**\u001b[0m\u001b[0mkwargs\u001b[0m\u001b[0;34m)\u001b[0m\u001b[0;34m\u001b[0m\u001b[0;34m\u001b[0m\u001b[0m\n\u001b[0m\u001b[1;32m   2204\u001b[0m \u001b[0;34m\u001b[0m\u001b[0m\n\u001b[1;32m   2205\u001b[0m         \u001b[0;32mif\u001b[0m \u001b[0mframeon\u001b[0m\u001b[0;34m:\u001b[0m\u001b[0;34m\u001b[0m\u001b[0;34m\u001b[0m\u001b[0m\n",
            "\u001b[0;32m/usr/local/lib/python3.6/dist-packages/matplotlib/backend_bases.py\u001b[0m in \u001b[0;36mprint_figure\u001b[0;34m(self, filename, dpi, facecolor, edgecolor, orientation, format, bbox_inches, **kwargs)\u001b[0m\n\u001b[1;32m   2098\u001b[0m                            else suppress())\n\u001b[1;32m   2099\u001b[0m                     \u001b[0;32mwith\u001b[0m \u001b[0mctx\u001b[0m\u001b[0;34m:\u001b[0m\u001b[0;34m\u001b[0m\u001b[0;34m\u001b[0m\u001b[0m\n\u001b[0;32m-> 2100\u001b[0;31m                         \u001b[0mself\u001b[0m\u001b[0;34m.\u001b[0m\u001b[0mfigure\u001b[0m\u001b[0;34m.\u001b[0m\u001b[0mdraw\u001b[0m\u001b[0;34m(\u001b[0m\u001b[0mrenderer\u001b[0m\u001b[0;34m)\u001b[0m\u001b[0;34m\u001b[0m\u001b[0;34m\u001b[0m\u001b[0m\n\u001b[0m\u001b[1;32m   2101\u001b[0m                     \u001b[0mbbox_artists\u001b[0m \u001b[0;34m=\u001b[0m \u001b[0mkwargs\u001b[0m\u001b[0;34m.\u001b[0m\u001b[0mpop\u001b[0m\u001b[0;34m(\u001b[0m\u001b[0;34m\"bbox_extra_artists\"\u001b[0m\u001b[0;34m,\u001b[0m \u001b[0;32mNone\u001b[0m\u001b[0;34m)\u001b[0m\u001b[0;34m\u001b[0m\u001b[0;34m\u001b[0m\u001b[0m\n\u001b[1;32m   2102\u001b[0m                     bbox_inches = self.figure.get_tightbbox(renderer,\n",
            "\u001b[0;32m/usr/local/lib/python3.6/dist-packages/matplotlib/artist.py\u001b[0m in \u001b[0;36mdraw_wrapper\u001b[0;34m(artist, renderer, *args, **kwargs)\u001b[0m\n\u001b[1;32m     36\u001b[0m                 \u001b[0mrenderer\u001b[0m\u001b[0;34m.\u001b[0m\u001b[0mstart_filter\u001b[0m\u001b[0;34m(\u001b[0m\u001b[0;34m)\u001b[0m\u001b[0;34m\u001b[0m\u001b[0;34m\u001b[0m\u001b[0m\n\u001b[1;32m     37\u001b[0m \u001b[0;34m\u001b[0m\u001b[0m\n\u001b[0;32m---> 38\u001b[0;31m             \u001b[0;32mreturn\u001b[0m \u001b[0mdraw\u001b[0m\u001b[0;34m(\u001b[0m\u001b[0martist\u001b[0m\u001b[0;34m,\u001b[0m \u001b[0mrenderer\u001b[0m\u001b[0;34m,\u001b[0m \u001b[0;34m*\u001b[0m\u001b[0margs\u001b[0m\u001b[0;34m,\u001b[0m \u001b[0;34m**\u001b[0m\u001b[0mkwargs\u001b[0m\u001b[0;34m)\u001b[0m\u001b[0;34m\u001b[0m\u001b[0;34m\u001b[0m\u001b[0m\n\u001b[0m\u001b[1;32m     39\u001b[0m         \u001b[0;32mfinally\u001b[0m\u001b[0;34m:\u001b[0m\u001b[0;34m\u001b[0m\u001b[0;34m\u001b[0m\u001b[0m\n\u001b[1;32m     40\u001b[0m             \u001b[0;32mif\u001b[0m \u001b[0martist\u001b[0m\u001b[0;34m.\u001b[0m\u001b[0mget_agg_filter\u001b[0m\u001b[0;34m(\u001b[0m\u001b[0;34m)\u001b[0m \u001b[0;32mis\u001b[0m \u001b[0;32mnot\u001b[0m \u001b[0;32mNone\u001b[0m\u001b[0;34m:\u001b[0m\u001b[0;34m\u001b[0m\u001b[0;34m\u001b[0m\u001b[0m\n",
            "\u001b[0;32m/usr/local/lib/python3.6/dist-packages/matplotlib/figure.py\u001b[0m in \u001b[0;36mdraw\u001b[0;34m(self, renderer)\u001b[0m\n\u001b[1;32m   1734\u001b[0m             \u001b[0mself\u001b[0m\u001b[0;34m.\u001b[0m\u001b[0mpatch\u001b[0m\u001b[0;34m.\u001b[0m\u001b[0mdraw\u001b[0m\u001b[0;34m(\u001b[0m\u001b[0mrenderer\u001b[0m\u001b[0;34m)\u001b[0m\u001b[0;34m\u001b[0m\u001b[0;34m\u001b[0m\u001b[0m\n\u001b[1;32m   1735\u001b[0m             mimage._draw_list_compositing_images(\n\u001b[0;32m-> 1736\u001b[0;31m                 renderer, self, artists, self.suppressComposite)\n\u001b[0m\u001b[1;32m   1737\u001b[0m \u001b[0;34m\u001b[0m\u001b[0m\n\u001b[1;32m   1738\u001b[0m             \u001b[0mrenderer\u001b[0m\u001b[0;34m.\u001b[0m\u001b[0mclose_group\u001b[0m\u001b[0;34m(\u001b[0m\u001b[0;34m'figure'\u001b[0m\u001b[0;34m)\u001b[0m\u001b[0;34m\u001b[0m\u001b[0;34m\u001b[0m\u001b[0m\n",
            "\u001b[0;32m/usr/local/lib/python3.6/dist-packages/matplotlib/image.py\u001b[0m in \u001b[0;36m_draw_list_compositing_images\u001b[0;34m(renderer, parent, artists, suppress_composite)\u001b[0m\n\u001b[1;32m    135\u001b[0m     \u001b[0;32mif\u001b[0m \u001b[0mnot_composite\u001b[0m \u001b[0;32mor\u001b[0m \u001b[0;32mnot\u001b[0m \u001b[0mhas_images\u001b[0m\u001b[0;34m:\u001b[0m\u001b[0;34m\u001b[0m\u001b[0;34m\u001b[0m\u001b[0m\n\u001b[1;32m    136\u001b[0m         \u001b[0;32mfor\u001b[0m \u001b[0ma\u001b[0m \u001b[0;32min\u001b[0m \u001b[0martists\u001b[0m\u001b[0;34m:\u001b[0m\u001b[0;34m\u001b[0m\u001b[0;34m\u001b[0m\u001b[0m\n\u001b[0;32m--> 137\u001b[0;31m             \u001b[0ma\u001b[0m\u001b[0;34m.\u001b[0m\u001b[0mdraw\u001b[0m\u001b[0;34m(\u001b[0m\u001b[0mrenderer\u001b[0m\u001b[0;34m)\u001b[0m\u001b[0;34m\u001b[0m\u001b[0;34m\u001b[0m\u001b[0m\n\u001b[0m\u001b[1;32m    138\u001b[0m     \u001b[0;32melse\u001b[0m\u001b[0;34m:\u001b[0m\u001b[0;34m\u001b[0m\u001b[0;34m\u001b[0m\u001b[0m\n\u001b[1;32m    139\u001b[0m         \u001b[0;31m# Composite any adjacent images together\u001b[0m\u001b[0;34m\u001b[0m\u001b[0;34m\u001b[0m\u001b[0;34m\u001b[0m\u001b[0m\n",
            "\u001b[0;32m/usr/local/lib/python3.6/dist-packages/matplotlib/artist.py\u001b[0m in \u001b[0;36mdraw_wrapper\u001b[0;34m(artist, renderer, *args, **kwargs)\u001b[0m\n\u001b[1;32m     36\u001b[0m                 \u001b[0mrenderer\u001b[0m\u001b[0;34m.\u001b[0m\u001b[0mstart_filter\u001b[0m\u001b[0;34m(\u001b[0m\u001b[0;34m)\u001b[0m\u001b[0;34m\u001b[0m\u001b[0;34m\u001b[0m\u001b[0m\n\u001b[1;32m     37\u001b[0m \u001b[0;34m\u001b[0m\u001b[0m\n\u001b[0;32m---> 38\u001b[0;31m             \u001b[0;32mreturn\u001b[0m \u001b[0mdraw\u001b[0m\u001b[0;34m(\u001b[0m\u001b[0martist\u001b[0m\u001b[0;34m,\u001b[0m \u001b[0mrenderer\u001b[0m\u001b[0;34m,\u001b[0m \u001b[0;34m*\u001b[0m\u001b[0margs\u001b[0m\u001b[0;34m,\u001b[0m \u001b[0;34m**\u001b[0m\u001b[0mkwargs\u001b[0m\u001b[0;34m)\u001b[0m\u001b[0;34m\u001b[0m\u001b[0;34m\u001b[0m\u001b[0m\n\u001b[0m\u001b[1;32m     39\u001b[0m         \u001b[0;32mfinally\u001b[0m\u001b[0;34m:\u001b[0m\u001b[0;34m\u001b[0m\u001b[0;34m\u001b[0m\u001b[0m\n\u001b[1;32m     40\u001b[0m             \u001b[0;32mif\u001b[0m \u001b[0martist\u001b[0m\u001b[0;34m.\u001b[0m\u001b[0mget_agg_filter\u001b[0m\u001b[0;34m(\u001b[0m\u001b[0;34m)\u001b[0m \u001b[0;32mis\u001b[0m \u001b[0;32mnot\u001b[0m \u001b[0;32mNone\u001b[0m\u001b[0;34m:\u001b[0m\u001b[0;34m\u001b[0m\u001b[0;34m\u001b[0m\u001b[0m\n",
            "\u001b[0;32m/usr/local/lib/python3.6/dist-packages/matplotlib/axes/_base.py\u001b[0m in \u001b[0;36mdraw\u001b[0;34m(self, renderer, inframe)\u001b[0m\n\u001b[1;32m   2628\u001b[0m             \u001b[0mrenderer\u001b[0m\u001b[0;34m.\u001b[0m\u001b[0mstop_rasterizing\u001b[0m\u001b[0;34m(\u001b[0m\u001b[0;34m)\u001b[0m\u001b[0;34m\u001b[0m\u001b[0;34m\u001b[0m\u001b[0m\n\u001b[1;32m   2629\u001b[0m \u001b[0;34m\u001b[0m\u001b[0m\n\u001b[0;32m-> 2630\u001b[0;31m         \u001b[0mmimage\u001b[0m\u001b[0;34m.\u001b[0m\u001b[0m_draw_list_compositing_images\u001b[0m\u001b[0;34m(\u001b[0m\u001b[0mrenderer\u001b[0m\u001b[0;34m,\u001b[0m \u001b[0mself\u001b[0m\u001b[0;34m,\u001b[0m \u001b[0martists\u001b[0m\u001b[0;34m)\u001b[0m\u001b[0;34m\u001b[0m\u001b[0;34m\u001b[0m\u001b[0m\n\u001b[0m\u001b[1;32m   2631\u001b[0m \u001b[0;34m\u001b[0m\u001b[0m\n\u001b[1;32m   2632\u001b[0m         \u001b[0mrenderer\u001b[0m\u001b[0;34m.\u001b[0m\u001b[0mclose_group\u001b[0m\u001b[0;34m(\u001b[0m\u001b[0;34m'axes'\u001b[0m\u001b[0;34m)\u001b[0m\u001b[0;34m\u001b[0m\u001b[0;34m\u001b[0m\u001b[0m\n",
            "\u001b[0;32m/usr/local/lib/python3.6/dist-packages/matplotlib/image.py\u001b[0m in \u001b[0;36m_draw_list_compositing_images\u001b[0;34m(renderer, parent, artists, suppress_composite)\u001b[0m\n\u001b[1;32m    135\u001b[0m     \u001b[0;32mif\u001b[0m \u001b[0mnot_composite\u001b[0m \u001b[0;32mor\u001b[0m \u001b[0;32mnot\u001b[0m \u001b[0mhas_images\u001b[0m\u001b[0;34m:\u001b[0m\u001b[0;34m\u001b[0m\u001b[0;34m\u001b[0m\u001b[0m\n\u001b[1;32m    136\u001b[0m         \u001b[0;32mfor\u001b[0m \u001b[0ma\u001b[0m \u001b[0;32min\u001b[0m \u001b[0martists\u001b[0m\u001b[0;34m:\u001b[0m\u001b[0;34m\u001b[0m\u001b[0;34m\u001b[0m\u001b[0m\n\u001b[0;32m--> 137\u001b[0;31m             \u001b[0ma\u001b[0m\u001b[0;34m.\u001b[0m\u001b[0mdraw\u001b[0m\u001b[0;34m(\u001b[0m\u001b[0mrenderer\u001b[0m\u001b[0;34m)\u001b[0m\u001b[0;34m\u001b[0m\u001b[0;34m\u001b[0m\u001b[0m\n\u001b[0m\u001b[1;32m    138\u001b[0m     \u001b[0;32melse\u001b[0m\u001b[0;34m:\u001b[0m\u001b[0;34m\u001b[0m\u001b[0;34m\u001b[0m\u001b[0m\n\u001b[1;32m    139\u001b[0m         \u001b[0;31m# Composite any adjacent images together\u001b[0m\u001b[0;34m\u001b[0m\u001b[0;34m\u001b[0m\u001b[0;34m\u001b[0m\u001b[0m\n",
            "\u001b[0;32m/usr/local/lib/python3.6/dist-packages/matplotlib/artist.py\u001b[0m in \u001b[0;36mdraw_wrapper\u001b[0;34m(artist, renderer, *args, **kwargs)\u001b[0m\n\u001b[1;32m     36\u001b[0m                 \u001b[0mrenderer\u001b[0m\u001b[0;34m.\u001b[0m\u001b[0mstart_filter\u001b[0m\u001b[0;34m(\u001b[0m\u001b[0;34m)\u001b[0m\u001b[0;34m\u001b[0m\u001b[0;34m\u001b[0m\u001b[0m\n\u001b[1;32m     37\u001b[0m \u001b[0;34m\u001b[0m\u001b[0m\n\u001b[0;32m---> 38\u001b[0;31m             \u001b[0;32mreturn\u001b[0m \u001b[0mdraw\u001b[0m\u001b[0;34m(\u001b[0m\u001b[0martist\u001b[0m\u001b[0;34m,\u001b[0m \u001b[0mrenderer\u001b[0m\u001b[0;34m,\u001b[0m \u001b[0;34m*\u001b[0m\u001b[0margs\u001b[0m\u001b[0;34m,\u001b[0m \u001b[0;34m**\u001b[0m\u001b[0mkwargs\u001b[0m\u001b[0;34m)\u001b[0m\u001b[0;34m\u001b[0m\u001b[0;34m\u001b[0m\u001b[0m\n\u001b[0m\u001b[1;32m     39\u001b[0m         \u001b[0;32mfinally\u001b[0m\u001b[0;34m:\u001b[0m\u001b[0;34m\u001b[0m\u001b[0;34m\u001b[0m\u001b[0m\n\u001b[1;32m     40\u001b[0m             \u001b[0;32mif\u001b[0m \u001b[0martist\u001b[0m\u001b[0;34m.\u001b[0m\u001b[0mget_agg_filter\u001b[0m\u001b[0;34m(\u001b[0m\u001b[0;34m)\u001b[0m \u001b[0;32mis\u001b[0m \u001b[0;32mnot\u001b[0m \u001b[0;32mNone\u001b[0m\u001b[0;34m:\u001b[0m\u001b[0;34m\u001b[0m\u001b[0;34m\u001b[0m\u001b[0m\n",
            "\u001b[0;32m/usr/local/lib/python3.6/dist-packages/matplotlib/image.py\u001b[0m in \u001b[0;36mdraw\u001b[0;34m(self, renderer, *args, **kwargs)\u001b[0m\n\u001b[1;32m    624\u001b[0m         \u001b[0;32melse\u001b[0m\u001b[0;34m:\u001b[0m\u001b[0;34m\u001b[0m\u001b[0;34m\u001b[0m\u001b[0m\n\u001b[1;32m    625\u001b[0m             im, l, b, trans = self.make_image(\n\u001b[0;32m--> 626\u001b[0;31m                 renderer, renderer.get_image_magnification())\n\u001b[0m\u001b[1;32m    627\u001b[0m             \u001b[0;32mif\u001b[0m \u001b[0mim\u001b[0m \u001b[0;32mis\u001b[0m \u001b[0;32mnot\u001b[0m \u001b[0;32mNone\u001b[0m\u001b[0;34m:\u001b[0m\u001b[0;34m\u001b[0m\u001b[0;34m\u001b[0m\u001b[0m\n\u001b[1;32m    628\u001b[0m                 \u001b[0mrenderer\u001b[0m\u001b[0;34m.\u001b[0m\u001b[0mdraw_image\u001b[0m\u001b[0;34m(\u001b[0m\u001b[0mgc\u001b[0m\u001b[0;34m,\u001b[0m \u001b[0ml\u001b[0m\u001b[0;34m,\u001b[0m \u001b[0mb\u001b[0m\u001b[0;34m,\u001b[0m \u001b[0mim\u001b[0m\u001b[0;34m)\u001b[0m\u001b[0;34m\u001b[0m\u001b[0;34m\u001b[0m\u001b[0m\n",
            "\u001b[0;32m/usr/local/lib/python3.6/dist-packages/matplotlib/image.py\u001b[0m in \u001b[0;36mmake_image\u001b[0;34m(self, renderer, magnification, unsampled)\u001b[0m\n\u001b[1;32m    915\u001b[0m             \u001b[0mself\u001b[0m\u001b[0;34m.\u001b[0m\u001b[0m_A\u001b[0m\u001b[0;34m,\u001b[0m \u001b[0mbbox\u001b[0m\u001b[0;34m,\u001b[0m \u001b[0mtransformed_bbox\u001b[0m\u001b[0;34m,\u001b[0m\u001b[0;34m\u001b[0m\u001b[0;34m\u001b[0m\u001b[0m\n\u001b[1;32m    916\u001b[0m             \u001b[0mself\u001b[0m\u001b[0;34m.\u001b[0m\u001b[0mget_clip_box\u001b[0m\u001b[0;34m(\u001b[0m\u001b[0;34m)\u001b[0m \u001b[0;32mor\u001b[0m \u001b[0mself\u001b[0m\u001b[0;34m.\u001b[0m\u001b[0maxes\u001b[0m\u001b[0;34m.\u001b[0m\u001b[0mbbox\u001b[0m\u001b[0;34m,\u001b[0m\u001b[0;34m\u001b[0m\u001b[0;34m\u001b[0m\u001b[0m\n\u001b[0;32m--> 917\u001b[0;31m             magnification, unsampled=unsampled)\n\u001b[0m\u001b[1;32m    918\u001b[0m \u001b[0;34m\u001b[0m\u001b[0m\n\u001b[1;32m    919\u001b[0m     \u001b[0;32mdef\u001b[0m \u001b[0m_check_unsampled_image\u001b[0m\u001b[0;34m(\u001b[0m\u001b[0mself\u001b[0m\u001b[0;34m,\u001b[0m \u001b[0mrenderer\u001b[0m\u001b[0;34m)\u001b[0m\u001b[0;34m:\u001b[0m\u001b[0;34m\u001b[0m\u001b[0;34m\u001b[0m\u001b[0m\n",
            "\u001b[0;32m/usr/local/lib/python3.6/dist-packages/matplotlib/image.py\u001b[0m in \u001b[0;36m_make_image\u001b[0;34m(self, A, in_bbox, out_bbox, clip_bbox, magnification, unsampled, round_to_pixel_border)\u001b[0m\n\u001b[1;32m    476\u001b[0m                 \u001b[0mA_scaled\u001b[0m \u001b[0;34m+=\u001b[0m \u001b[0;36m0.1\u001b[0m\u001b[0;34m\u001b[0m\u001b[0;34m\u001b[0m\u001b[0m\n\u001b[1;32m    477\u001b[0m                 \u001b[0;31m# resample the input data to the correct resolution and shape\u001b[0m\u001b[0;34m\u001b[0m\u001b[0;34m\u001b[0m\u001b[0;34m\u001b[0m\u001b[0m\n\u001b[0;32m--> 478\u001b[0;31m                 \u001b[0mA_resampled\u001b[0m \u001b[0;34m=\u001b[0m \u001b[0m_resample\u001b[0m\u001b[0;34m(\u001b[0m\u001b[0mself\u001b[0m\u001b[0;34m,\u001b[0m \u001b[0mA_scaled\u001b[0m\u001b[0;34m,\u001b[0m \u001b[0mout_shape\u001b[0m\u001b[0;34m,\u001b[0m \u001b[0mt\u001b[0m\u001b[0;34m)\u001b[0m\u001b[0;34m\u001b[0m\u001b[0;34m\u001b[0m\u001b[0m\n\u001b[0m\u001b[1;32m    479\u001b[0m                 \u001b[0;31m# done with A_scaled now, remove from namespace to be sure!\u001b[0m\u001b[0;34m\u001b[0m\u001b[0;34m\u001b[0m\u001b[0;34m\u001b[0m\u001b[0m\n\u001b[1;32m    480\u001b[0m                 \u001b[0;32mdel\u001b[0m \u001b[0mA_scaled\u001b[0m\u001b[0;34m\u001b[0m\u001b[0;34m\u001b[0m\u001b[0m\n",
            "\u001b[0;32m/usr/local/lib/python3.6/dist-packages/matplotlib/image.py\u001b[0m in \u001b[0;36m_resample\u001b[0;34m(image_obj, data, out_shape, transform, resample, alpha)\u001b[0m\n\u001b[1;32m    200\u001b[0m                     \u001b[0malpha\u001b[0m\u001b[0;34m,\u001b[0m\u001b[0;34m\u001b[0m\u001b[0;34m\u001b[0m\u001b[0m\n\u001b[1;32m    201\u001b[0m                     \u001b[0mimage_obj\u001b[0m\u001b[0;34m.\u001b[0m\u001b[0mget_filternorm\u001b[0m\u001b[0;34m(\u001b[0m\u001b[0;34m)\u001b[0m\u001b[0;34m,\u001b[0m\u001b[0;34m\u001b[0m\u001b[0;34m\u001b[0m\u001b[0m\n\u001b[0;32m--> 202\u001b[0;31m                     image_obj.get_filterrad())\n\u001b[0m\u001b[1;32m    203\u001b[0m     \u001b[0;32mreturn\u001b[0m \u001b[0mout\u001b[0m\u001b[0;34m\u001b[0m\u001b[0;34m\u001b[0m\u001b[0m\n\u001b[1;32m    204\u001b[0m \u001b[0;34m\u001b[0m\u001b[0m\n",
            "\u001b[0;31mKeyboardInterrupt\u001b[0m: "
          ]
        },
        {
          "output_type": "display_data",
          "data": {
            "image/png": "[encoded data removed]",
            "text/plain": [
              "<Figure size 432x288 with 1 Axes>"
            ]
          },
          "metadata": {
            "tags": []
          }
        }
      ]
    },
    {
      "cell_type": "code",
      "metadata": {
        "id": "2_ImWgQh3i6F"
      },
      "source": [
        "#zero padding \n",
        "import shutil\n",
        "import os\n",
        "\n",
        "sourcedir = \"/content/test_vid/new_model\"; extensions = (\".jpg\", \".jpeg\")\n",
        "files = [(f, f[f.rfind(\".\"):], f[:f.rfind(\".\")]) for f in os.listdir(sourcedir)if f.endswith(extensions)]\n",
        "maxlen = len(max([f[2] for f in files], key = len))\n",
        "\n",
        "for item in files:\n",
        "    zeros = maxlen-len(item[2])\n",
        "    shutil.move(sourcedir+\"/\"+item[0], sourcedir+\"/\"+str(zeros*\"0\")+item[0])"
      ],
      "execution_count": 23,
      "outputs": []
    },
    {
      "cell_type": "markdown",
      "metadata": {
        "id": "Wy8CcgdA-nHR"
      },
      "source": [
        "##Converting it back to a video"
      ]
    },
    {
      "cell_type": "code",
      "metadata": {
        "id": "Lo88J0iN-qZG"
      },
      "source": [
        "from os.path import isfile, join\n",
        " \n",
        "def convert_frames_to_video(pathIn,pathOut,fps):\n",
        "    frame_array = []\n",
        "    files = [f for f in os.listdir(pathIn) if isfile(join(pathIn, f))]\n",
        " \n",
        "    #for sorting the file names properly\n",
        "    #files.sort(key = lambda x: int(x[5:-4]))\n",
        "    files = sorted(files)\n",
        "    for i in range(len(files)):\n",
        "        filename=pathIn + files[i]\n",
        "        #reading each files\n",
        "        img = cv2.imread(filename)\n",
        "        height, width, layers = img.shape\n",
        "        size = (width,height)\n",
        "        print(filename)\n",
        "        #inserting the frames into an image array\n",
        "        frame_array.append(img)\n",
        " \n",
        "    out = cv2.VideoWriter(pathOut,cv2.VideoWriter_fourcc(*'MP4V'), fps, size)\n",
        " \n",
        "    for i in range(len(frame_array)):\n",
        "        # writing to a image array\n",
        "        out.write(frame_array[i])\n",
        "    out.release()"
      ],
      "execution_count": 24,
      "outputs": []
    },
    {
      "cell_type": "code",
      "metadata": {
        "id": "HDgxqQii-xzz",
        "outputId": "b263e321-3b18-405e-8d05-15978aac64c5",
        "colab": {
          "base_uri": "https://localhost:8080/"
        }
      },
      "source": [
        "pathIn= '/content/test_vid/new_model/'\n",
        "pathOut = '/content/video1.mp4'\n",
        "#enter the correct frame rates\n",
        "fps = 30\n",
        "convert_frames_to_video(pathIn, pathOut, fps)"
      ],
      "execution_count": 26,
      "outputs": [
        {
          "output_type": "stream",
          "text": [
            "/content/test_vid/new_model/00.jpg\n",
            "/content/test_vid/new_model/01.jpg\n",
            "/content/test_vid/new_model/02.jpg\n",
            "/content/test_vid/new_model/03.jpg\n",
            "/content/test_vid/new_model/04.jpg\n",
            "/content/test_vid/new_model/05.jpg\n",
            "/content/test_vid/new_model/06.jpg\n",
            "/content/test_vid/new_model/07.jpg\n",
            "/content/test_vid/new_model/08.jpg\n",
            "/content/test_vid/new_model/09.jpg\n",
            "/content/test_vid/new_model/10.jpg\n",
            "/content/test_vid/new_model/11.jpg\n",
            "/content/test_vid/new_model/12.jpg\n",
            "/content/test_vid/new_model/13.jpg\n",
            "/content/test_vid/new_model/14.jpg\n",
            "/content/test_vid/new_model/15.jpg\n",
            "/content/test_vid/new_model/16.jpg\n",
            "/content/test_vid/new_model/17.jpg\n",
            "/content/test_vid/new_model/18.jpg\n",
            "/content/test_vid/new_model/19.jpg\n",
            "/content/test_vid/new_model/20.jpg\n",
            "/content/test_vid/new_model/21.jpg\n",
            "/content/test_vid/new_model/22.jpg\n",
            "/content/test_vid/new_model/23.jpg\n",
            "/content/test_vid/new_model/24.jpg\n",
            "/content/test_vid/new_model/25.jpg\n",
            "/content/test_vid/new_model/26.jpg\n",
            "/content/test_vid/new_model/27.jpg\n",
            "/content/test_vid/new_model/28.jpg\n",
            "/content/test_vid/new_model/29.jpg\n",
            "/content/test_vid/new_model/30.jpg\n",
            "/content/test_vid/new_model/31.jpg\n",
            "/content/test_vid/new_model/32.jpg\n",
            "/content/test_vid/new_model/33.jpg\n",
            "/content/test_vid/new_model/34.jpg\n",
            "/content/test_vid/new_model/35.jpg\n",
            "/content/test_vid/new_model/36.jpg\n",
            "/content/test_vid/new_model/37.jpg\n",
            "/content/test_vid/new_model/38.jpg\n",
            "/content/test_vid/new_model/39.jpg\n",
            "/content/test_vid/new_model/40.jpg\n",
            "/content/test_vid/new_model/41.jpg\n",
            "/content/test_vid/new_model/42.jpg\n",
            "/content/test_vid/new_model/43.jpg\n",
            "/content/test_vid/new_model/44.jpg\n",
            "/content/test_vid/new_model/45.jpg\n",
            "/content/test_vid/new_model/46.jpg\n",
            "/content/test_vid/new_model/47.jpg\n",
            "/content/test_vid/new_model/48.jpg\n",
            "/content/test_vid/new_model/49.jpg\n",
            "/content/test_vid/new_model/50.jpg\n",
            "/content/test_vid/new_model/51.jpg\n",
            "/content/test_vid/new_model/52.jpg\n",
            "/content/test_vid/new_model/53.jpg\n",
            "/content/test_vid/new_model/54.jpg\n",
            "/content/test_vid/new_model/55.jpg\n",
            "/content/test_vid/new_model/56.jpg\n",
            "/content/test_vid/new_model/57.jpg\n",
            "/content/test_vid/new_model/58.jpg\n",
            "/content/test_vid/new_model/59.jpg\n",
            "/content/test_vid/new_model/60.jpg\n",
            "/content/test_vid/new_model/61.jpg\n",
            "/content/test_vid/new_model/62.jpg\n",
            "/content/test_vid/new_model/63.jpg\n",
            "/content/test_vid/new_model/64.jpg\n"
          ],
          "name": "stdout"
        }
      ]
    },
    {
      "cell_type": "markdown",
      "metadata": {
        "id": "wYqw1O3-_Dmy"
      },
      "source": [
        "### Download video"
      ]
    },
    {
      "cell_type": "code",
      "metadata": {
        "id": "PMNVee17_I0l"
      },
      "source": [
        "assert False"
      ],
      "execution_count": null,
      "outputs": []
    },
    {
      "cell_type": "code",
      "metadata": {
        "id": "HvcGOKOm-2RK"
      },
      "source": [
        "#Downloading video\n",
        "from google.colab import files\n",
        "files.download('/content/video1.mp4') "
      ],
      "execution_count": null,
      "outputs": []
    }
  ]
}